{
 "cells": [
  {
   "cell_type": "code",
   "execution_count": 1,
   "id": "bc612d54-3e46-43df-9911-7c095dfb2cae",
   "metadata": {},
   "outputs": [],
   "source": [
    "%load_ext jupyter_black"
   ]
  },
  {
   "cell_type": "code",
   "execution_count": 2,
   "id": "e76b8d0a-375e-4707-9753-e2b56f5ebf33",
   "metadata": {},
   "outputs": [],
   "source": [
    "import pickle\n",
    "from google.cloud import bigquery\n",
    "import pandas as pd\n",
    "import matplotlib.pyplot as plt\n",
    "from functools import reduce\n",
    "from collections import namedtuple\n",
    "from typing import Iterable, Literal\n",
    "from copy import deepcopy\n",
    "import re"
   ]
  },
  {
   "cell_type": "code",
   "execution_count": 3,
   "id": "4fd3d705-1332-421e-bc79-27c46af31aea",
   "metadata": {},
   "outputs": [],
   "source": [
    "import warnings\n",
    "import sys\n",
    "import os"
   ]
  },
  {
   "cell_type": "code",
   "execution_count": 4,
   "id": "97a1ae74-4c90-417a-bb97-c9fd4f9f2dc7",
   "metadata": {},
   "outputs": [],
   "source": [
    "from collections import namedtuple"
   ]
  },
  {
   "cell_type": "code",
   "execution_count": 5,
   "id": "3488869e-97e0-42e4-acb5-b1e0500bac27",
   "metadata": {},
   "outputs": [],
   "source": [
    "project = \"x-avenue-450615-c3\"\n",
    "dataset_name = \"jobs_postings\"\n",
    "location = \"europe-west1\"\n",
    "\n",
    "bq_client = bigquery.Client()"
   ]
  },
  {
   "cell_type": "code",
   "execution_count": 6,
   "id": "da6bec10-a418-4d82-81aa-d2ac345c983f",
   "metadata": {},
   "outputs": [
    {
     "name": "stdout",
     "output_type": "stream",
     "text": [
      "/home/jovyan/work/repos/jobs-research/pipelines/rapidapi_jobs_posting was added to sys.path\n",
      "/home/jovyan/work/repos/jobs-research was added to sys.path\n"
     ]
    }
   ],
   "source": [
    "CURRENT_DIRECTORY = os.getcwd()\n",
    "PROJECT_ROOT = os.path.abspath(\n",
    "    os.path.join(CURRENT_DIRECTORY, \"../pipelines/rapidapi_jobs_posting/\")\n",
    ")\n",
    "if PROJECT_ROOT not in sys.path:\n",
    "    sys.path.append(PROJECT_ROOT)\n",
    "    print(f\"{PROJECT_ROOT} was added to sys.path\")\n",
    "\n",
    "REPO_ROOT = os.path.abspath(os.path.join(CURRENT_DIRECTORY, \"..\"))\n",
    "if REPO_ROOT not in sys.path:\n",
    "    sys.path.append(REPO_ROOT)\n",
    "    print(f\"{REPO_ROOT} was added to sys.path\")"
   ]
  },
  {
   "cell_type": "code",
   "execution_count": 7,
   "id": "38e56b66-d964-4f7a-b27f-5dde208086db",
   "metadata": {},
   "outputs": [],
   "source": [
    "from common.utils import bq_table_to_df"
   ]
  },
  {
   "cell_type": "code",
   "execution_count": 8,
   "id": "5332e104-eabd-4a0f-bb2f-b035c59ba44f",
   "metadata": {},
   "outputs": [],
   "source": [
    "sheet_url = \"https://docs.google.com/spreadsheets/d/1clAiWIVMD5bCJRHJr9-p2vw9h99W5sByAtqThIGREpo/edit?gid=0#gid=0\"\n",
    "csv_export_url = sheet_url.replace(\"/edit?gid=\", \"/export?format=csv&gid=\")"
   ]
  },
  {
   "cell_type": "code",
   "execution_count": 9,
   "id": "e2848be0-868a-4220-ba36-0c580bc65420",
   "metadata": {},
   "outputs": [
    {
     "data": {
      "text/plain": [
       "'https://docs.google.com/spreadsheets/d/1clAiWIVMD5bCJRHJr9-p2vw9h99W5sByAtqThIGREpo/export?format=csv&gid=0#gid=0'"
      ]
     },
     "execution_count": 9,
     "metadata": {},
     "output_type": "execute_result"
    }
   ],
   "source": [
    "csv_export_url"
   ]
  },
  {
   "cell_type": "code",
   "execution_count": 10,
   "id": "bf4901fb-0f8c-4ab9-9058-51f35bbdb8f2",
   "metadata": {},
   "outputs": [],
   "source": [
    "rules_df = pd.read_csv(csv_export_url)"
   ]
  },
  {
   "cell_type": "code",
   "execution_count": 11,
   "id": "ae28c9f8-8460-4728-a862-528e69ee2f28",
   "metadata": {},
   "outputs": [
    {
     "name": "stdout",
     "output_type": "stream",
     "text": [
      "<class 'pandas.core.frame.DataFrame'>\n",
      "RangeIndex: 176 entries, 0 to 175\n",
      "Data columns (total 4 columns):\n",
      " #   Column            Non-Null Count  Dtype \n",
      "---  ------            --------------  ----- \n",
      " 0   keyword           94 non-null     object\n",
      " 1   result            176 non-null    object\n",
      " 2   case_sensitive    176 non-null    bool  \n",
      " 3   spaces_sensitive  176 non-null    bool  \n",
      "dtypes: bool(2), object(2)\n",
      "memory usage: 3.2+ KB\n"
     ]
    }
   ],
   "source": [
    "rules_df.info()"
   ]
  },
  {
   "cell_type": "code",
   "execution_count": 12,
   "id": "eee4a0a0-8fae-4176-b1ff-822b3f387f51",
   "metadata": {},
   "outputs": [],
   "source": [
    "REPLACE_WITH_SPACES = r\"[!\\\"$\\%'()\\+,\\-./:;?]\"\n",
    "\n",
    "\n",
    "def prepare_text(\n",
    "    text: str,\n",
    "    case_sensitive: bool,\n",
    "    spaces_sensitive: bool,\n",
    "    replace_with_spaces=REPLACE_WITH_SPACES,\n",
    ") -> str:\n",
    "    \"\"\"Normalize text for keywords search\"\"\"\n",
    "    if not case_sensitive:\n",
    "        text = text.lower()\n",
    "    if not spaces_sensitive:\n",
    "        text = text.replace(\" \", \"\")\n",
    "    else:\n",
    "\n",
    "        text = re.sub(replace_with_spaces, \" \", text)\n",
    "        text = \" \" + text.strip() + \" \"\n",
    "    return text"
   ]
  },
  {
   "cell_type": "code",
   "execution_count": 75,
   "id": "a648c6d6-c8d8-4257-a784-5f3589312158",
   "metadata": {},
   "outputs": [],
   "source": [
    "class _MappingDict:\n",
    "    \"\"\"\n",
    "    Internal helper class used by MappingRules to store normalized keyword mappings.\n",
    "    This class is not intended for direct use.\n",
    "\n",
    "    Attributes:\n",
    "        rules (dict): A mapping of keywords to values.\n",
    "        case_sensitive (bool): Whether keyword search is case-sensitive.\n",
    "        spaces_sensitive (bool): Whether keyword search should preserve spaces and special characters.\n",
    "        is_prepared (bool): Whether rules are already normalized.\n",
    "\n",
    "    Methods:\n",
    "        prepare():\n",
    "            Normalizes all keywords in the mapping according to the case and space sensitivity rules.\n",
    "    \"\"\"\n",
    "\n",
    "    def __init__(\n",
    "        self,\n",
    "        rules: dict,\n",
    "        case_sensitive: bool = False,\n",
    "        spaces_sensitive: bool = False,\n",
    "    ):\n",
    "        self.rules = rules\n",
    "        self.case_sensitive = case_sensitive\n",
    "        self.spaces_sensitive = spaces_sensitive\n",
    "        self.is_prepared = False\n",
    "\n",
    "    def prepare(self):\n",
    "        if not self.is_prepared:\n",
    "            prepared_rules = {}\n",
    "            for key, val in self.rules.items():\n",
    "                prepared_key = prepare_text(\n",
    "                    key, self.case_sensitive, self.spaces_sensitive\n",
    "                )\n",
    "                prepared_rules[prepared_key] = val\n",
    "                for char in REPLACE_WITH_SPACES:\n",
    "                    if self.spaces_sensitive and prepared_key != key and char in key:\n",
    "                        warnings.warn(\n",
    "                            f\"'{char}' in the keyword '{key}' was replaced with a space.\",\n",
    "                            UserWarning,\n",
    "                        )\n",
    "            self.rules = prepared_rules\n",
    "            self.is_prepared = True\n",
    "        else:\n",
    "            warnings.warn(\"MappingDict is already prepared.\", UserWarning)\n",
    "        return self"
   ]
  },
  {
   "cell_type": "code",
   "execution_count": 76,
   "id": "854003fc-2a82-4c14-9da2-f17220e532d5",
   "metadata": {},
   "outputs": [
    {
     "data": {
      "text/plain": [
       "\u001b[0;31mInit signature:\u001b[0m\n",
       "\u001b[0m_MappingDict\u001b[0m\u001b[0;34m(\u001b[0m\u001b[0;34m\u001b[0m\n",
       "\u001b[0;34m\u001b[0m    \u001b[0mrules\u001b[0m\u001b[0;34m:\u001b[0m \u001b[0mdict\u001b[0m\u001b[0;34m,\u001b[0m\u001b[0;34m\u001b[0m\n",
       "\u001b[0;34m\u001b[0m    \u001b[0mcase_sensitive\u001b[0m\u001b[0;34m:\u001b[0m \u001b[0mbool\u001b[0m \u001b[0;34m=\u001b[0m \u001b[0;32mFalse\u001b[0m\u001b[0;34m,\u001b[0m\u001b[0;34m\u001b[0m\n",
       "\u001b[0;34m\u001b[0m    \u001b[0mspaces_sensitive\u001b[0m\u001b[0;34m:\u001b[0m \u001b[0mbool\u001b[0m \u001b[0;34m=\u001b[0m \u001b[0;32mFalse\u001b[0m\u001b[0;34m,\u001b[0m\u001b[0;34m\u001b[0m\n",
       "\u001b[0;34m\u001b[0m\u001b[0;34m)\u001b[0m\u001b[0;34m\u001b[0m\u001b[0;34m\u001b[0m\u001b[0m\n",
       "\u001b[0;31mDocstring:\u001b[0m     \n",
       "Internal helper class used by MappingRules to store normalized keyword mappings.\n",
       "This class is not intended for direct use.\n",
       "\n",
       "Attributes:\n",
       "    rules (dict): A mapping of keywords to values.\n",
       "    case_sensitive (bool): Whether keyword search is case-sensitive.\n",
       "    spaces_sensitive (bool): Whether keyword search should preserve spaces and special characters.\n",
       "    is_prepared (bool): Whether rules are already normalized.\n",
       "\n",
       "Methods:\n",
       "    prepare():\n",
       "        Normalizes all keywords in the mapping according to the case and space sensitivity rules.\n",
       "\u001b[0;31mType:\u001b[0m           type\n",
       "\u001b[0;31mSubclasses:\u001b[0m     "
      ]
     },
     "metadata": {},
     "output_type": "display_data"
    }
   ],
   "source": [
    "?_MappingDict"
   ]
  },
  {
   "cell_type": "code",
   "execution_count": 77,
   "id": "8a0d3d92-38db-4b7e-91d7-854cb61abe1a",
   "metadata": {},
   "outputs": [],
   "source": [
    "class MappingRules:\n",
    "    \"\"\"\n",
    "    Handles keyword-based mapping rules with configurable text normalization.\n",
    "\n",
    "    This class is responsible for validating, preparing, and applying mapping rules\n",
    "    defined in a pandas DataFrame. Each rule maps a keyword to a result value,\n",
    "    optionally specifying case and space sensitivity. The rules are grouped\n",
    "    by normalization settings and transformed into MappingDicts for fast lookup.\n",
    "\n",
    "    Attributes:\n",
    "        attr_name (str): The name of the attribute the rules apply to (used for error messages).\n",
    "        rules_df (pd.DataFrame): DataFrame containing the rules, must have columns:\n",
    "            [\"keyword\", \"result\", \"case_sensitive\", \"spaces_sensitive\"].\n",
    "        _is_prepared (bool): Indicates whether the rules have been processed into MappingDicts.\n",
    "\n",
    "    Methods:\n",
    "        prepare():\n",
    "            Groups and transforms the rules into MappingDicts according to their normalization settings.\n",
    "        apply(texts, find):\n",
    "            Applies the mapping to a list of texts, returning either the first match (\"any\")\n",
    "            or a set of all matches (\"all\").\n",
    "    \"\"\"\n",
    "\n",
    "    def __init__(self, attr_name: str, rules_df: pd.DataFrame):\n",
    "        self.attr_name = attr_name\n",
    "        self.rules_df = rules_df[\n",
    "            [\"keyword\", \"result\", \"case_sensitive\", \"spaces_sensitive\"]\n",
    "        ]\n",
    "\n",
    "        self._check_for_nulls()\n",
    "        self.rules_df[\"keyword\"] = self.rules_df.apply(\n",
    "            lambda x: x.result if pd.isna(x.keyword) else x.keyword, axis=\"columns\"\n",
    "        )\n",
    "        self._check_keywords_uniqueness()\n",
    "        self._is_prepared = False\n",
    "\n",
    "    def _check_for_nulls(self):\n",
    "        for col in [\"result\", \"case_sensitive\", \"spaces_sensitive\"]:\n",
    "            if rules_df[col].isna().sum() > 0:\n",
    "                raise ValueError(\n",
    "                    f\"'{col}' can not be Null. Fix mapping rules for {self.attr_name}.\"\n",
    "                )\n",
    "\n",
    "    def _check_keywords_uniqueness(self):\n",
    "        non_unique_keywords = self.rules_df[\"keyword\"].value_counts()[lambda x: x > 1]\n",
    "        if len(non_unique_keywords) > 0:\n",
    "            non_unique_keywords_str = \", \".join(non_unique_keywords.index)\n",
    "            raise ValueError(\n",
    "                f\"Keywords must be unique. Fix mapping rules for {self.attr_name}: {non_unique_keywords_str}.\"\n",
    "            )\n",
    "\n",
    "    def prepare(self):\n",
    "        if not self._is_prepared:\n",
    "            self.map_dicts = list(\n",
    "                self.rules_df.set_index(\"keyword\")\n",
    "                .groupby(by=[\"case_sensitive\", \"spaces_sensitive\"])\n",
    "                .agg(dict)\n",
    "                .rename({\"result\": \"mapping_dict\"}, axis=\"columns\")\n",
    "                .reset_index()\n",
    "                .apply(\n",
    "                    lambda x: MappingDict(\n",
    "                        rules=x.mapping_dict,\n",
    "                        case_sensitive=x.case_sensitive,\n",
    "                        spaces_sensitive=x.spaces_sensitive,\n",
    "                    ),\n",
    "                    axis=\"columns\",\n",
    "                )\n",
    "            )\n",
    "            self.map_dicts_prepared = [\n",
    "                mapping_dict.prepare() for mapping_dict in self.map_dicts\n",
    "            ]\n",
    "            self._is_prepared = True\n",
    "        else:\n",
    "            warnings.warn(\"MappingRules are already prepared.\", UserWarning)\n",
    "\n",
    "    def apply(\n",
    "        self, texts: Iterable[str], find: Literal[\"any\", \"all\"] = \"all\"\n",
    "    ) -> str | set[str] | None:\n",
    "\n",
    "        if not self._is_prepared:\n",
    "            self.prepare()\n",
    "\n",
    "        if find == \"all\":\n",
    "            result = set()\n",
    "        if find == \"any\":\n",
    "            result = None\n",
    "\n",
    "        for mapping_dict in self.map_dicts_prepared:\n",
    "            for text in texts:\n",
    "                text = prepare_text(\n",
    "                    text, mapping_dict.case_sensitive, mapping_dict.spaces_sensitive\n",
    "                )\n",
    "                for key, val in mapping_dict.rules.items():\n",
    "                    if key in text:\n",
    "                        if find == \"all\":\n",
    "                            result.add(val)\n",
    "                        if find == \"any\":\n",
    "                            return val\n",
    "        return result"
   ]
  },
  {
   "cell_type": "code",
   "execution_count": 15,
   "id": "1127ddb9-28ce-41c9-b19c-48332ca4c861",
   "metadata": {},
   "outputs": [],
   "source": [
    "skills_rules = MappingRules(\"skills\", rules_df)"
   ]
  },
  {
   "cell_type": "code",
   "execution_count": 16,
   "id": "0f5b1ff7-f246-442d-86a8-01f949e2b143",
   "metadata": {},
   "outputs": [
    {
     "data": {
      "text/plain": [
       "{'BI'}"
      ]
     },
     "execution_count": 16,
     "metadata": {},
     "output_type": "execute_result"
    }
   ],
   "source": [
    "skills_rules.apply([\"BI\"], \"all\")"
   ]
  },
  {
   "cell_type": "code",
   "execution_count": 17,
   "id": "77e58462-b5bd-4bda-8f7e-37419fe20056",
   "metadata": {},
   "outputs": [
    {
     "data": {
      "text/plain": [
       "{'BI'}"
      ]
     },
     "execution_count": 17,
     "metadata": {},
     "output_type": "execute_result"
    }
   ],
   "source": [
    "skills_rules.apply([\" BI \"], \"all\")"
   ]
  },
  {
   "cell_type": "code",
   "execution_count": 18,
   "id": "533aa010-8727-4a74-8178-132153f67356",
   "metadata": {},
   "outputs": [
    {
     "data": {
      "text/plain": [
       "{'BI'}"
      ]
     },
     "execution_count": 18,
     "metadata": {},
     "output_type": "execute_result"
    }
   ],
   "source": [
    "skills_rules.apply([\"hI BI!\"], \"all\")"
   ]
  },
  {
   "cell_type": "code",
   "execution_count": 19,
   "id": "6fbc55e0-0f34-4bb0-beec-52f5eafa6989",
   "metadata": {},
   "outputs": [
    {
     "data": {
      "text/plain": [
       "set()"
      ]
     },
     "execution_count": 19,
     "metadata": {},
     "output_type": "execute_result"
    }
   ],
   "source": [
    "skills_rules.apply([\" bi \"], \"all\")"
   ]
  },
  {
   "cell_type": "code",
   "execution_count": 20,
   "id": "9ba461e2-bee2-4150-8834-51f89fd898d7",
   "metadata": {},
   "outputs": [
    {
     "data": {
      "text/plain": [
       "set()"
      ]
     },
     "execution_count": 20,
     "metadata": {},
     "output_type": "execute_result"
    }
   ],
   "source": [
    "skills_rules.apply([\" BINGO!\"], \"all\")"
   ]
  },
  {
   "cell_type": "code",
   "execution_count": 21,
   "id": "fec59903-a1a0-4cee-a032-3ecfd9bc61a3",
   "metadata": {},
   "outputs": [
    {
     "data": {
      "text/plain": [
       "{'Google BigQuery'}"
      ]
     },
     "execution_count": 21,
     "metadata": {},
     "output_type": "execute_result"
    }
   ],
   "source": [
    "skills_rules.apply([\"BigQuery\"], \"all\")"
   ]
  },
  {
   "cell_type": "code",
   "execution_count": 22,
   "id": "286b7d91-44e5-49ea-b961-ceefdc3d2533",
   "metadata": {},
   "outputs": [
    {
     "data": {
      "text/plain": [
       "{'Google BigQuery'}"
      ]
     },
     "execution_count": 22,
     "metadata": {},
     "output_type": "execute_result"
    }
   ],
   "source": [
    "skills_rules.apply([\"(BigQuery)\"], \"all\")"
   ]
  },
  {
   "cell_type": "code",
   "execution_count": 23,
   "id": "ce826a6f-ab69-4f91-b67e-71b061bcb0b2",
   "metadata": {},
   "outputs": [
    {
     "data": {
      "text/plain": [
       "{'Google BigQuery'}"
      ]
     },
     "execution_count": 23,
     "metadata": {},
     "output_type": "execute_result"
    }
   ],
   "source": [
    "skills_rules.apply([\"(Big Query)\"], \"all\")"
   ]
  },
  {
   "cell_type": "code",
   "execution_count": 24,
   "id": "1f41d0ce-5b92-4b76-b7e5-ccd675590909",
   "metadata": {},
   "outputs": [
    {
     "data": {
      "text/plain": [
       "{'JavaScript'}"
      ]
     },
     "execution_count": 24,
     "metadata": {},
     "output_type": "execute_result"
    }
   ],
   "source": [
    "skills_rules.apply([\"(JavaScRiPt \"], \"all\")"
   ]
  },
  {
   "cell_type": "code",
   "execution_count": 78,
   "id": "4b32cd2d-646d-4216-994f-bae15dffe15c",
   "metadata": {},
   "outputs": [
    {
     "data": {
      "text/plain": [
       "{'Java'}"
      ]
     },
     "execution_count": 78,
     "metadata": {},
     "output_type": "execute_result"
    }
   ],
   "source": [
    "skills_rules.apply([\"(Java ScRiPt \"], \"all\")"
   ]
  },
  {
   "cell_type": "code",
   "execution_count": 26,
   "id": "6e30c2e0-6bb6-44ed-9e45-f8aa4b33b22c",
   "metadata": {},
   "outputs": [
    {
     "data": {
      "text/plain": [
       "{'Azure Cosmos', 'Google BigQuery', 'Hive'}"
      ]
     },
     "execution_count": 26,
     "metadata": {},
     "output_type": "execute_result"
    }
   ],
   "source": [
    "skills_rules.apply([\"piu-piu(bigquery/Hive/CosmosDB)\"], \"all\")"
   ]
  },
  {
   "cell_type": "code",
   "execution_count": 27,
   "id": "9e8f3676-d266-4a90-aa08-7a3a7b9eb076",
   "metadata": {},
   "outputs": [],
   "source": [
    "df_posting_load_query = f\"\"\"\n",
    "select *\n",
    "from `x-avenue-450615-c3.jp.jobs` as jp\n",
    "where position = 'Data Engineer'\n",
    "\"\"\"\n",
    "df_posting = bq_client.query(df_posting_load_query).to_dataframe()"
   ]
  },
  {
   "cell_type": "code",
   "execution_count": 28,
   "id": "9f9fcb82-051c-4c09-ab39-c9c66a5a45ec",
   "metadata": {
    "scrolled": true
   },
   "outputs": [],
   "source": [
    "df_posting[\"skills\"] = df_posting[\"description\"].map(\n",
    "    lambda x: set() if pd.isna(x) else skills_rules.apply([x])\n",
    ")"
   ]
  },
  {
   "cell_type": "code",
   "execution_count": 29,
   "id": "89f6bb83-f9d4-4f16-9902-2344cd9a3ee4",
   "metadata": {},
   "outputs": [
    {
     "data": {
      "text/plain": [
       "position\n",
       "Data Engineer    880\n",
       "Name: count, dtype: int64"
      ]
     },
     "execution_count": 29,
     "metadata": {},
     "output_type": "execute_result"
    }
   ],
   "source": [
    "df_posting.position.value_counts()"
   ]
  },
  {
   "cell_type": "code",
   "execution_count": 30,
   "id": "d8a733ba-16cd-4e5b-9600-0aa3e3bfc3fb",
   "metadata": {
    "scrolled": true
   },
   "outputs": [
    {
     "name": "stdout",
     "output_type": "stream",
     "text": [
      "{'Agile', 'Cloud'} \n",
      "\n",
      " **Join our global team of experts** At diconium, you will work on projects that create value from software, data, and AI, enabling businesses to achieve more with less. You will collaborate with over 2,300 fellow experts to support global leading companies in maximizing the impact of digital efforts and delivering solutions with measurable business impact. We prioritize people and genuine human connection, ensuring a supportive and inclusive work environment. And we give you maximum flexibility thanks to our hybrid workplace.  \n",
      "\n",
      "**What You Can Expect**\n",
      "\n",
      "* You lead an international, multifunctional Data Engineering \\& Data Architecture team within the diconium data unit, driving complex digital business solutions.\n",
      "* Your primary focus is strategic leadership. You have both the responsibility and the freedom to shape the success of the Data Engineering \\& Data Architecture department.\n",
      "* Beyond leading your team, you also oversee project and account management, ensuring high customer satisfaction and successful project outcomes.\n",
      "* Operating in a cloud-based environment, you work closely with the product team to define and refine our vision and roadmap.\n",
      "* With a deep passion for data and engineering, you are driven by curiosity. You constantly analyze trends and metric shifts to uncover insights and opportunities.\n",
      "* You play a key role in fostering an open, positive work culture in which people feel motivated, enjoy coming to work, and recognize and value high performance.  \n",
      "\n",
      "**What You Bring Along**\n",
      "\n",
      "* You see yourself as a Servant Leader with an agile mindset. Therefore, you view leadership not as a position but as a task.\n",
      "* You already have several years of experience in the field of Data Engineering and Data Architecture.\n",
      "* Additionally, you have had the opportunity to lead a team, and your leadership qualities are convincing (3 years).\n",
      "* You enjoy supporting your team members in their personal and professional development.\n",
      "* You are a good communicator, and your interaction with people can be considered respectful and constructive.\n",
      "* You ideally have experience in dealing with various clients and customers.\n",
      "* You have fluent (at least C1) German and English language skills, both written and spoken.  \n",
      "\n",
      "**What We Have To Offer** Discover new skills and improve your strengths, adapt your working day to your personal lifestyle, celebrate community, sustainability and diversity. And sweeten your working life with awesome perks and benefits!  \n",
      "\n",
      "**P** **rofessional \\& Personal Growth:** Develop yourself both professionally and personally through training programs, free language courses, competence centers and an active tech community.  \n",
      "\n",
      "**Flexible Work-Life Balance:** Benefit from hybrid work, workation, flexible hours, parental support and sabbaticals.  \n",
      "\n",
      "**Embrace Diversity \\& Sustainability:** Engage in our Sustainability Hub, diverse communities, Diversity Taskforce and after-work activities.  \n",
      "\n",
      "**Comprehensive Benefits:** Enjoy public transport tickets, job bikes, health offers, supplementary insurances, a pension plan and various discounts.  \n",
      "\n",
      "**What We Value** At diconium, we value and recognize the unique perspectives and experiences of each individual. With this in mind, we welcome and cherish every single application equally. At the same time, we stand up against any type of discrimination and harassment based on gender, age, skin color, religion, sexual orientation, origin, disability, gender identity and other protected characteristics.  \n",
      "\n",
      "If you have any questions, feel free to reach out.  \n",
      "\n",
      "Your contact person is  \n",
      "\n",
      "Maren, maren.starke@diconium.com \n",
      "\n",
      "\n",
      "\n",
      "\n",
      "\n",
      "{'SQL', 'Google Cloud Platform', 'Microsoft Excel', 'Terraform', 'Cloud', 'Agile', 'Python'} \n",
      "\n",
      " Digitl Cloud is a company in the field of marketing and cloud technology. You have the chance to be part of building a young and ambitious company. We are hands-on specialists who have made it our mission to approach the topic of supporting businesses with cloud technology in an even more innovative way. New ideas and fresh approaches are always welcome. At Digitl Cloud, you will not only have the opportunity for a career with a founding spirit, but you will also work with exciting clients and be in close contact with our contacts in the industry.\n",
      "\n",
      "As a Cloud Data Engineer, your role will be to build and support data infrastructure that enables our clients to make data-driven decisions. You will be expected to collect, transform, and automate data model.\n",
      "\n",
      "Tasks {#tasks}\n",
      "- -------------\n",
      "\n",
      "* Maintaining in-depth knowledge of cloud-related technologies and can articulate best approaches and practices to the team\n",
      "* Create with ETL tools and/or build the required infrastructure for an ETL pipeline\n",
      "* Part of your work will be to automate and streamline some of the manual processes regarding data flows\n",
      "* You will translate client needs and objectives into actionable development plans and strategies to help them reach their goals and be able to discuss the plans with them\n",
      "\n",
      "Qualifications {#qualifications}\n",
      "- -------------------------------\n",
      "\n",
      "* BA/BS degree in Computer Science, Mathematics, Economics, or a related technical field, or equivalent practical experience\n",
      "* You have gained experience as a cloud data engineer\n",
      "* Strong SQL knowledge\n",
      "* Proficiency in Python\n",
      "* Knowledge of Relational and non-relational datasets\n",
      "* Experience automating manual processes\n",
      "* Experience with stream processing systems\n",
      "* Excellent analytical and problem-solving skills\n",
      "* Significant experience in designing, developing, and troubleshooting large production-grade data systems on the Google Cloud and being able to select the appropriate tools to solve business problems\n",
      "* As an expert, you advise customers in your area of expertise\n",
      "\n",
      "Preferred Skills {#preferred-skills}\n",
      "- -----------------------------------\n",
      "\n",
      "* Google Certified Professional Data Engineer or other GCP certification\n",
      "* Experience with BigData Tools\n",
      "* Experience with another cloud provider\n",
      "* You have experience with agile working practices and tools\n",
      "* Strong expertise in Python and Terraform\n",
      "\n",
      "Benefits of working with us {#benefits-of-working-with-us}\n",
      "- ---------------------------------------------------------\n",
      "\n",
      "* Co-Working - you have a place in the best co-working spaces in Düsseldorf, Zurich, Barcelona, or Hamburg at your disposal.\n",
      "* Remote 1st - all our processes are designed for decentralized working. You decide whether you prefer to work in your home office or spend your day in one of our offices\n",
      "* Home Office Equipment - we provide you with a standard for your remote working environment\n",
      "* Animal Lovers - If you have a dog, you can bring it to any of our offices\n",
      "* Skill Building - As a highly specialized technology partner, we support your development with certificates, conference attendance, and training\n",
      "* Diverse and Specialized team - Allows team members to gain experience working with multiple cultures and empowers their personal strengths and goals\n",
      "* Agile Work Environment - Agile working is becoming increasingly important in order to work and adapt in fast-paced environments. This allows the team at Digitl Cloud to work efficiently while benefitting from more flexibility and freedom. \n",
      "\n",
      "\n",
      "\n",
      "\n",
      "\n",
      "{'Oracle', 'Lakehouse', 'Spark', 'Microsoft Fabric', 'Agile', 'PowerBI', 'BI', 'Python'} \n",
      "\n",
      " ### Job Description\n",
      "\n",
      "**The process in focus**\n",
      "\n",
      "The focus of our work is the continuous improvement of Rheinland-Versicherungen's processes. We identify needs and design tailor-made processes based on them.\n",
      "\n",
      "For us, the quality of a process is primarily defined by the added value for the specialist departments, the agents and the customers. Our goal is to design the processes of the future sustainably and to continuously improve them. The Processes department is therefore taking responsibility for the digital transformation of RheinLand.\n",
      "\n",
      "service provider for specialist departments and sales\n",
      "\n",
      "We act as consultants for the specialist departments, as the first point of contact for their needs, but also as an innovation driver and source of inspiration. We involve everyone involved in the design of the overall processes.\n",
      "\n",
      "Implementation together with IT (software development process)\n",
      "\n",
      "We actively shape the implementation of prioritized topics throughout the entire software development process, from the idea to successful implementation.\n",
      "\n",
      "We work with IT in various roles, take responsibility for clarifying orders with the specialist departments and are particularly responsible for conception and testing.\n",
      "\n",
      "methodology\n",
      "\n",
      "We work in agile projects, process initiatives and interdisciplinary teams.\n",
      "\n",
      "In addition, we further develop these methods in process and project management and establish them in the continuous improvement process.\n",
      "\n",
      "**Data Engineer (m/f/d) Data Lakehouse, Data Warehouse**\n",
      "- -------------------------------------------------------\n",
      "\n",
      "**01.06.2024 I Neuss, Group headquarters I permanent I full-time**\n",
      "\n",
      "### **For you: An exciting challenge**\n",
      "\n",
      "* With your know-how and innovative solutions, you will shape the construction and further development of a modern data lakehouse based on Microsoft Fabric.\n",
      "* Your profile includes the conception, creation, maintenance and monitoring of ELT routes from different sources, especially Oracle databases.\n",
      "* You are responsible for data modeling and the creation of structured, high-performance data structures for analysis purposes.\n",
      "* You support our departments in creating reports using e.g. PowerBI.\n",
      "* You create scripts to automate recurring tasks\n",
      "* And last but not least: You will participate in projects and advise our specialist departments on the topics within your area of responsibility.\n",
      "\n",
      "### **For us: The perfect reinforcement**\n",
      "\n",
      "* You have professional experience as a data engineer, preferably with a focus on business intelligence and data integration\n",
      "* Ideally, you have successfully completed a degree in computer science/business informatics (Bachelor, Master, Diploma) or a comparable qualification (IT specialist or similar)\n",
      "* You have experience in setting up and operating data lakes or data warehouses, ideally with Microsoft Fabric\n",
      "* You have a solid understanding of data modeling and database design. Data governance is no foreign word to you.\n",
      "* You are experienced in using Spark and Python and in creating ETL or ELT pipelines.\n",
      "* You have a quick grasp, very good analytical skills and a good feel for large amounts of data and associated data flows.\n",
      "* You are used to structuring yourself and your work independently and always keep an overview, even in complex issues.\n",
      "* You have very good written and spoken German skills for successful communication within the team and with the specialist departments\n",
      "\n",
      "### **We as employers:**\n",
      "\n",
      "Company headquarters: Neuss. Founded: 1880. Sales areas: Germany and the Netherlands. Employees: approx. 900. The RheinLand Insurance Group is an independent, family-run insurance group and is one of the most attractive employers in the Rhine-Ruhr metropolitan region. As one of the innovation leaders in German medium-sized businesses, we are driving digital transformation at all levels. To do this, we unite three strong brands (RheinLand Versicherungen, rhion.digtal, Credit Life) under one roof. We have already received several awards for our innovative insurance solutions.  \n",
      "\n",
      "#### **Arrive better**\n",
      "\n",
      "With us, you can get there and away easily: the main train station is within walking distance, the job ticket is subsidized and cycling with the JobRad is encouraged. The A46, A52 and A57 motorways are just a few minutes' drive away and parking spaces can be booked free of charge with just a few clicks, depending on availability.  \n",
      "\n",
      "#### **Good atmosphere**\n",
      "\n",
      "Look forward to a motivating working atmosphere: There is a high level of flexibility and responsibility. Decision-making processes are short. There is plenty of freedom. And the colleagues are friendly.  \n",
      "Sounds good, right?  \n",
      "\n",
      "#### **Well cared for**\n",
      "\n",
      "So that you can keep track of the many advantages: we subsidize your workplace glasses!  \n",
      "Also included for you: If you have any aches and pains, our competent company doctor is there for you so that you can get back on your feet quickly without having to wait long. He keeps an eye on regular eye examinations as well as your flu protection with a prophylactic vaccination.  \n",
      "\n",
      "#### **Modern office spaces**\n",
      "\n",
      "Who says you can't feel at home at work?  \n",
      "OpenSpace makes your dream of more freedom come true: open, bright, warm, friendly rooms without barriers promote communication across teams and departments. Anyone looking for peace and quiet - to drink coffee, make phone calls, gather ideas - will find it in quiet corners and lounges. Coffee is available in inviting coffee bars - in the company restaurant and on all floors.  \n",
      "\n",
      "#### **Our favorite color: colorful**\n",
      "\n",
      "Where you come from, how old you are, what gender you are, who you love, what your religion is or whether you have a personal disability, it doesn't matter to us. We see diversity as an opportunity and want to work together to create an appreciative and inclusive coexistence.  \n",
      "\n",
      "#### **work-life balance**\n",
      "\n",
      "Always keep a good balance: working hours are flexible and of course mobile working or desk sharing is also possible. Various part-time models are available to you, as are work-life services and employee and management advice. There is also vacation: 30 days. There are other days off on December 24th, December 31st and other traditional days.  \n",
      "Of course, we won't leave you stranded when it comes to working from home, but will also take care of equipping your office space.  \n",
      "\n",
      "**Become a part of the RheinLand team**\n",
      "\n",
      "We look forward to receiving your application!\n",
      "\n",
      "**Your contact:**\n",
      "\n",
      "Elias Jagoda  \n",
      "HR Manager\\*in Recruiting  \n",
      "RheinLand Insurance Group  \n",
      "Human Resources department  \n",
      "RheinLandplatz  \n",
      "41460 Neuss  \n",
      "www.rheinland-versicherungsgruppe.de  \n",
      "Email me jobs like this \n",
      "\n",
      "\n",
      "\n",
      "\n",
      "\n",
      "{'SQL', 'Python', 'Pandas'} \n",
      "\n",
      " **Hey, You! Nice to meet you!**   \n",
      "\n",
      "**Already a good match if you....**\n",
      "\n",
      "* live within the EU or UK\n",
      "* have 6-12 months time.\n",
      "* like to work in a small team \\& startup...   \n",
      "\n",
      "**Main information**\n",
      "\n",
      "* live within the EU\n",
      "* like to work in a small team \\& startup\n",
      "* have 6-12 months time  \n",
      "\n",
      "**For this we need you**\n",
      "\n",
      "* Supporting our experienced developers with both small and larger tasks related to data -- including software development, data wrangling, cleaning, and transformation\n",
      "* Learning everything you can and growing with the team  \n",
      "\n",
      "**Your mission**\n",
      "\n",
      "* You will be an integral part of our Data team, taking care of different short- and mid-term initiatives, guided by our experienced developers\n",
      "* You will work primarily on data related software development, data wrangling, cleaning, and transformation. This includes basic football data, as well as enhancing the data that we already have for a better user experience.  \n",
      "\n",
      "**What Do You Need**\n",
      "\n",
      "* Solid experience in Python for software development\n",
      "* Confident working with SQL and databases\n",
      "* A proactive mindset -- you take ownership and drive your tasks from start to finish\n",
      "* You're not afraid to ask questions and seek feedback when you hit a roadblock  \n",
      "\n",
      "**Advantage but not a must**\n",
      "\n",
      "* Knowledge of the python data ecosystem (pandas, streamlit,..)  \n",
      "\n",
      "**Why us?**\n",
      "\n",
      "* Be one of the first to make Prematch great\n",
      "* Flexible work culture, with all remote options\n",
      "* You will be equipped with suitable IT by us\n",
      "* Flexible working hours and 27 days of vacation per year\n",
      "* Frequent team events and offsites  \n",
      "\n",
      "**Right up your alley?** \n",
      "\n",
      "\n",
      "\n",
      "\n",
      "\n",
      "{'SQL', 'Hadoop', 'Amazon Web Services', 'Amazon Redshift', 'Microsoft Azure', 'Orchestration', 'Airflow', 'Spark', 'Snowflake', 'Cloud', 'Google BigQuery', 'Google Dataproc', 'Python'} \n",
      "\n",
      " **Job Title:** Data Engineer\n",
      "\n",
      "**Location:** Germany (Remote or Hybrid options available)\n",
      "\n",
      "**Job Type:** Full-time\n",
      "\n",
      "**Job Description:**\n",
      "\n",
      "We are seeking a skilled and motivated Data Engineer to join our data team. In this role, you will be responsible for designing, building, and maintaining scalable data pipelines and infrastructure. You'll play a key role in enabling data-driven decision-making across the organization by ensuring the availability, accuracy, and reliability of data.\n",
      "\n",
      "**Key Responsibilities:**\n",
      "\n",
      "* Design and develop ETL/ELT pipelines to collect, process, and store data from various sources\n",
      "* Optimize and maintain data architectures, databases, and data warehouses\n",
      "* Collaborate with analysts, data scientists, and developers to support their data needs\n",
      "* Ensure data quality, integrity, and compliance with data governance standards\n",
      "* Monitor and troubleshoot data pipelines and infrastructure performance\n",
      "* Contribute to automation and efficiency improvements in data processes\n",
      "\n",
      "**Qualifications:**\n",
      "\n",
      "* Bachelor's or Master's degree in Computer Science, Engineering, or a related field\n",
      "* Proficiency in SQL and programming languages such as Python or Scala\n",
      "* Experience with cloud platforms (e.g., AWS, Azure, GCP) and big data tools (e.g., Spark, Hadoop)\n",
      "* Familiarity with data warehousing solutions like Snowflake, Redshift, or BigQuery\n",
      "* Strong problem-solving skills and attention to detail\n",
      "* Experience with workflow orchestration tools like Airflow is a plus\n",
      "* Fluent in English; German is a plus\n",
      "\n",
      "**Why Join Us:**\n",
      "\n",
      "* Be part of a collaborative and data-driven culture\n",
      "* Work with modern technologies and cloud-based infrastructure\n",
      "* Opportunities for growth, training, and career advancement\n",
      "* Flexible work setup and supportive team environment \n",
      "\n",
      "\n",
      "\n",
      "\n",
      "\n",
      "{'SQL', 'Google Cloud Platform', 'Python', 'Pub/Sub', 'Google Cloud Run', 'Looker', 'Kubernetes', 'Cloud', 'Google BigQuery', 'BI', 'Docker'} \n",
      "\n",
      " **1KOMMA5°**   \n",
      "\n",
      "**Your mission** **Data Engineer** **App Team** **cross-functional, hands-on role** **stakeholder communication** **data ownership** **pipeline development**   \n",
      "\n",
      "**Your Responsibilities Will Include**\n",
      "\n",
      "* Own and evolve our SQLMesh pipelines for data transformations across the app's telemetry and pricing logic\n",
      "* Build and maintain robust Python-based data ingestion pipelines for new and existing external data sources\n",
      "* Maintain and evolve (GCP) cloud-native data infrastructure, ensuring performance and high availability in production\n",
      "* Work closely with Product, Design, and other Engineering teams to define and deliver data that powers user-facing features, including price calculations, earnings, and savings\n",
      "* Be the subject matter expert on telemetry data and energy price modeling, ensuring accuracy, reliability, and scalability\n",
      "* Develop and maintain Looker dashboards for analytics, monitoring, and tracking key metrics for internal teams\n",
      "* Ensure that telemetry measurements and price data are consistently available in the app, even under high load or during incidents\n",
      "* Build and monitor CI/CD pipelines (GitLab CI, GitHub Actions) for reliable deployment of data products\n",
      "* Design, implement, and monitor data quality checks to proactively catch and resolve issues\n",
      "* Collaborate regularly with stakeholders across departments to investigate bugs, support rollouts, and inform product decisions\n",
      "* Define and own key team KPIs and work proactively to improve them  \n",
      "\n",
      "**Your profile** **data and people,**   \n",
      "\n",
      "**Here's What We're Looking For**\n",
      "\n",
      "* Degree in Computer Science, Data Engineering, or a related technical field (BSc or MSc)\n",
      "* Solid professional experience with:\n",
      "\n",
      "* Python (for building data pipelines)\n",
      "\n",
      "* SQLMesh (or equivalent transformation tools)\n",
      "\n",
      "* Google Cloud Platform (especially Cloud Run, Pub/Sub, BigQuery)\n",
      "\n",
      "* Looker (or similar BI tools)\n",
      "* Proven track record designing, building and maintaining scalable end-to-end data pipelines that ingest data from external APIs and enable efficient, accessible storage and retrieval for both internal services and stakeholders\n",
      "* Experience working with energy data is a strong plus\n",
      "* Confident working in CI/CD environments (e.g., GitLab CI, GitHub Actions)\n",
      "* Proficient with Docker and Kubernetes\n",
      "* Strong communication skills: you're able to explain data intricacies clearly and collaborate with both technical and non-technical colleagues\n",
      "* High level of ownership and accountability; you see challenges through to the end\n",
      "* Fluent in English (German is a plus)  \n",
      "\n",
      "**Benefits**\n",
      "\n",
      "* You are part of an international, dynamic, and highly motivated team of people who have proven to make things happen\n",
      "* With your work, you accelerate the \"energy transition\" and hence have a direct impact on our climate\n",
      "* Work with and learn from other super-smart colleagues\n",
      "* You will enjoy direct contact with core decision-makers\n",
      "* You will enjoy the best chances of entering full-time in one of Europe's most thriving scaleups\n",
      "* You work remotely (Germany-wide), with offices in Hamburg, Berlin or Munich\n",
      "* Create a healthy balance alongside your work and enjoy all the benefits of the EGYM Wellpass  \n",
      "\n",
      "**About Us** \n",
      "\n",
      "\n",
      "\n",
      "\n",
      "\n",
      "{'SQL', 'MongoDB', 'Microsoft Excel', 'Oracle', 'BI', 'Agile', 'PowerBI', 'NoSQL', 'Python'} \n",
      "\n",
      " **About** **READY TO MAKE AN IMPACT EVERY DAY?**   \n",
      "\n",
      "**At ZF LIFETEC, we save lives through cutting-edge technology. With over 60 years of automotive safety innovation, we blend start-up agility with corporate stability to drive meaningful impact worldwide. Operating across 48 locations in 20 countries, our global presence amplifies our mission to make roads safer and save lives.**   \n",
      "\n",
      "**Why ZF LIFETEC?**\n",
      "\n",
      "* Innovative Impact: Shape the future of safety with life-saving technology that truly matters.\n",
      "* Dynamic Workplace: Thrive in an agile, collaborative environment where every idea counts.\n",
      "* Culture of Excellence: Be part of a team with over 60 years of high standards and groundbreaking achievements.\n",
      "* Growth \\& Empowerment: Advance your career with strong support for personal and professional development.  \n",
      "\n",
      "**Diversity \\& Inclusion**   \n",
      "\n",
      "* Python\n",
      "* Oracle\n",
      "* Scala\n",
      "* Java\n",
      "* MongoDB\n",
      "* Power BI\n",
      "* ETL\n",
      "* Data Quality\n",
      "* NoSQL\n",
      "* MongoDB\n",
      "* Oracle\n",
      "* Python\n",
      "* Scala\n",
      "* Java\n",
      "* Business Intelligence\n",
      "* Waldkraiburg, Bavaria, Germany  \n",
      "\n",
      "* Data Engineer\n",
      "* Data Infrastructure  \n",
      "\n",
      "* English \n",
      "\n",
      "\n",
      "\n",
      "\n",
      "\n",
      "{'SQL', 'Tableau', 'Azure Synapse', 'Pandas', 'Microsoft Azure', 'DBT', 'Snowflake', 'Cloud', 'Azure Data Factory', 'NumPy', 'Python'} \n",
      "\n",
      " Tangany, based in Munich, is a highly innovative technology company with a market-leading B2B solution for the custody of digital assets on the blockchain (e.g. cryptocurrencies, tokenized assets, NFTs). Our solution is already used by more than 40 institutional customers. Tangany is regulated by the German federal financial supervisory authority, BaFin.  \n",
      "\n",
      "Using our modern blockchain API, we enable our customers to easily and securely integrate blockchain functionalities into their systems. This white-label solution saves high development costs and time, enabling fast market access and easy usability for end users. Regulatory requirements can be covered for appropriate assets via Tangany's crypto custody license if required.  \n",
      "\n",
      "To support our continued growth, we are looking for a **(Junior) Data Engineer (f/m/d)** to join our Data team and work with their team to take E2E responsibility for our data warehouse and data pipelines.  \n",
      "\n",
      "Tasks  \n",
      "\n",
      "* Develop and maintain data pipelines: build, monitor, and maintain ETL/ELT workflows to process, clean, and transform data from various sources into the data warehouse.\n",
      "* Manage and scale the data warehouse, optimizing the structure and its performance to support business analytics needs.\n",
      "* Collaborate with stakeholders: Work closely with cross-functional teams, such as compliance and sales, to understand data requirements and implement solutions that address business needs.\n",
      "* Data quality assurance: perform regular quality checks, troubleshoot data discrepancies, and ensure the reliability of the data infrastructure.\n",
      "* Visualize insights: create and maintain dashboards and reports using visualization tools (e.g., Tableau) to help stakeholders make data-driven decisions.\n",
      "* Ensure data security: ensure compliance with data privacy regulations and best practices, safeguarding sensitive information within the data infrastructure.  \n",
      "\n",
      "**Requirements**\n",
      "\n",
      "* Foundational knowledge of data warehousing concepts and experience with platforms like Snowflake. Experience with DBT is a plus.\n",
      "* Understanding of modern data architecture and interest in improving existing data workflows for performance and scalability.Proven experience in building and maintaining ETL/ELT pipelines.\n",
      "* Experience with data transformation using SQL and Python is a must, as is familiarity with libraries like pandas or NumPy.\n",
      "* Experience with cloud technologies, ideally in the Microsoft Azure ecosystem (e.g., Azure Data Factory, Azure Synapse, or Azure Storage).\n",
      "* Ideally, knowledge of data visualization tools such as Tableau.\n",
      "* Knowledge of version control systems like GitHub for collaborative development and maintaining clean codebases.\n",
      "* Ideally, experience in handling large datasets, data cleaning, and data transformation tasks.\n",
      "* Interest in blockchain technology and finance is essential; familiarity with blockchain data structures or APIs is an advantage.\n",
      "* Fluency in English (at least B2); German is a plus.  \n",
      "\n",
      "**Benefits** **Flexibility \\& work-life balance:**\n",
      "\n",
      "* 30 days of vacation plus 1/2 day off December 24th and December 31st and additional unpaid leave if needed to recharge your battery.\n",
      "* Two weeks extra paid vacation for new parents\n",
      "* Possibility to work from home or any other place within Germany (depending on the role) or in our beautiful and fun office located in the heart of Munich.\n",
      "* Possibility to go on workation for up to 40 days per year.\n",
      "* Flexible working hours, you work when you are most productive.  \n",
      "\n",
      "**Your development:**\n",
      "\n",
      "* It starts from day one: With our onboarding that is tailored to your needs, you will receive a structured onboarding plan and feedback talks within the probation period (and of course after).\n",
      "* We grow and we want you to grow with us. Learning on the job, becoming a blockchain expert, exchanging knowledge with our highly motivated, well-rehearsed team with diverse skill sets, as well as taking part in individual training - our learning culture enables you to bring your personal and professional development to the next level.\n",
      "* Once a year we evaluate your career pathway and take the next steps in the right direction.  \n",
      "\n",
      "**Wellbeing:**\n",
      "\n",
      "* We offer free yoga classes on Mondays and Thursdays.\n",
      "* Fun at work: A match with a colleague at our ping pong table, enjoy an after-work drink with your colleagues on our amazing rooftop terrace, take part in our team events.  \n",
      "\n",
      "**Remuneration and additional benefits:**\n",
      "\n",
      "* An attractive annual salary in line with the market standards.\n",
      "* The possibility of virtual shares (ESOP) in the company.\n",
      "* Your choice of hardware: Mac or Windows\n",
      "* Your choice between EGYM Wellpass subsidy or Job Ticket  \n",
      "\n",
      "ONLY APPLICATIONS FROM GERMANY NO HEADHUNTERS   \n",
      "\n",
      "Become part of our highly motivated team and revolutionize the traditional financial market together with us. Seize the opportunity and actively shape the future of the industry. Apply now and be part of our innovative journey to make blockchain technology accessible to everyone. \n",
      "\n",
      "\n",
      "\n",
      "\n",
      "\n",
      "{'SQL', 'Tableau', 'SAP', 'Lakehouse', 'Databricks', 'Microsoft Azure', 'Cloud', 'PowerBI', 'BI', 'Python'} \n",
      "\n",
      " #### Introduction\n",
      "\n",
      "We are looking for a **Data Engineering Manager** to drive our product analytics function, platform, and operations. Take advantage of the scale-up dynamic of the leader of Enterprise Architecture management while taking ownership of the product analytics function, supporting our organization with standardised reports as well as analytics capabilities.\n",
      "\n",
      "SAP LeanIX is a market leader for enterprise architecture management (EAM), driving the modernization of IT landscapes and continuous business transformation. Its software-as-a-service solutions empower organizations to create transparency, enabling them to visualize, assess and manage the transition towards their target IT architecture. By offering a data-driven and automated approach enhanced with AI, SAP LeanIX helps organizations make sound decisions and collaborate more effectively. SAP LeanIX serves over 1.400 companies globally across various industries, including more than 10% of the Fortune 500 and half of the German DAX 40. Headquartered in Bonn, and offices in Munich and Berlin (Germany), SAP LeanIX also has a strong international presence with offices in Boston (USA), London (UK), Paris (France), Amsterdam (Netherlands), and Ljubljana (Slovenia). In November 2023, LeanIX became part of SAP. For more information, visit .\n",
      "\n",
      "#### What is waiting for you?\n",
      "\n",
      "We are looking for a person who loves generating insights from data and enables teams to leverage these insights to improve a product or a process. You love \"connecting the dots\" across different teams and jointly building a state-of-the-art product analytics data platform . You believe in the value of data-driven decisions and 5 whys to enable Product Managers. You also enjoy working on informing the LeanIX Leadership and Management teams on key performance indicators of our leading SaaS Enterprise Architecture platform.\n",
      "\n",
      "* You will be build and own the Product Analytics data platform in LeanIX\n",
      "* You will be responsible for the Product Analytics strategy, define the product analytics backlog and roadmap, and engage in the regular prioritization discussion to get things implemented\n",
      "* Lead and build a team of data engineers and analysts.\n",
      "* Coach the team in working collaboratively with other engineers and data experts to grow platform adoption\n",
      "* Continuously improve the environment and processes to support the data platform growth, maturity and compliance with best practices together with the team and other leaders\n",
      "* Create and steer the data platform strategy with the team in alignment with wider business, product, tech and data strategies\n",
      "* Represent Product Analytics in key initiatives and projects within the department or across the company and ensure they get delivered.\n",
      "* Your work closely together with our BI team to help building appropriate solutions and processes supporting our product analytics strategy.\n",
      "\n",
      "#### What are we looking for?\n",
      "\n",
      "* We are looking for an adept at building high-performing teams through fostering trust, continuous improvement, and iterative development\n",
      "* Experience in working with product management, preferably in a multi-team setup\n",
      "* Experience in defining and developing dashboards for various levels of an organization (from KPI-style reports to more interactive \"self-serviced\" solutions)\n",
      "* Knowledge on how to build and maintain a \"self-service\" oriented product analytics function, enabling product teams to become more data-driven in their decisions\n",
      "* As a hands-on leader, you will contribute directly to developing best-in-class tools and guidelines for our engineers, prioritizing customer needs and measurable outcomes\n",
      "* Experience in Microsoft Azure or similar cloud-native platforms\n",
      "* Familiarity with modern data architectures like data lakes, data warehouses, lakehouses etc.\n",
      "* Extended knowledge on data ingestion, ETL,/ELT processes and data requirements\n",
      "* Experience with using Databricks, Tableau, PowerBI, or similar reporting tools; Python or a knowledge of common query languages such as SQL, KQL or similar is a plus\n",
      "* Fluent English is mandatory\n",
      "\n",
      "#### We offer\n",
      "\n",
      "Your application information might be therefore shared across both SAP and SAP LeanIX recruiting and hiring teams.\n",
      "\n",
      "SAP LeanIX is not just a product, in fact it's a **great place to work.** Colleagues (700+) from dozens of countries jointly make our vision reality. We believe in transparent communication, personal development, diverse workforce, innovation by creating ideas that prove useful and that our world-class team deserves the best software stack money can buy.\n",
      "\n",
      "At SAP LeanIX we have a **Hybrid Work Mode** which means you work remotely from your home office and work from one of our offices. SAP LeanIX teams and team members decide together on the work mode which suits them best. Next to that, we have great benefits for you,\n",
      "\n",
      "Please check our Applicant Privacy Notice available for more information about how we process your personal data. If you have any questions or concerns about privacy or want to exercise any of your data privacy rights, please send an email to .\n",
      "\n",
      "SAP LeanIX is committed to being an **equal opportunity employer.** Diversity is vital to driving the growth and success of our company. If you need an equitable interview process alternative, please let our team know at [jobs@leanix.net](mailto:jobs@leanix.net). You will be treated with the utmost respect and confidentiality.\n",
      "\n",
      "*All applicants will receive consideration for employment based on experience, qualifications, and competencies. SAP LeanIX will not discriminate based on race, color, religion, belief, political affiliation, union membership, age, sex, pregnancy, sexual orientation, gender identity, national or ethnic origin, genetic information, creed, citizenship, disability, protected veteran or marital status, or any other status protected by applicable laws or regulations.* \n",
      "\n",
      "\n",
      "\n",
      "\n",
      "\n",
      "{'Hadoop', 'Apache Kafka', 'Java', 'BI', 'Python'} \n",
      "\n",
      " **About Agoda** Agoda is an online travel booking platform for accommodations, flights, and more. We build and deploy cutting-edge technology that connects travelers with a global network of 4.7M hotels and holiday properties worldwide, plus flights, activities, and more . Based in Asia and part of Booking Holdings, our 7,100+ employees representing 95+ nationalities in 27 markets foster a work environment rich in diversity, creativity, and collaboration. We innovate through a culture of experimentation and ownership, enhancing the ability for our customers to experience the world.  \n",
      "\n",
      "**Our Purpose --** **Bridging the World Through Travel** We believe travel allows people to enjoy, learn and experience more of the amazing world we live in. It brings individuals and cultures closer together, fostering empathy, understanding and happiness.  \n",
      "\n",
      "We are a skillful, driven and diverse team from across the globe, united by a passion to make an impact. Harnessing our innovative technologies and strong partnerships, we aim to make travel easy and rewarding for everyone.  \n",
      "\n",
      "**Get to Know Our Team** The Data department oversees all of Agoda's data-related requirements. Our ultimate goal is to enable and increase the use of data in the company through creative approaches and the implementation of powerful resources such as operational and analytical databases, queue systems, BI tools, and data science technology. We hire the brightest minds from around the world to take on this challenge and equip them with the knowledge and tools that contribute to their personal growth and success while supporting our company's culture of diversity and experimentation. The role the Data team plays at Agoda is critical as business users, product managers, engineers, and many others rely on us to empower their decision making. We are equally dedicated to our customers by improving their search experience with faster results and protecting them from any fraudulent activities. Data is interesting only when you have enough of it, and we have plenty. This is what drives up the challenge as part of the Data department, but also the reward.  \n",
      "\n",
      "**The Opportunity** As senior data pipeline engineer, you will work on distributed systems spanning multiple data centers, thousands of servers and hundreds of billions of messages a day. Ensuring data quality, data integrity and data accuracy is a core part of our identity. Design for new scalable system which data is increasing day by day, including auditing and monitoring systems. You will have a chance to manage projects with small team of 1-2 members which improving your ownership and leadership. You will be eager to solve problems that come from managing and making sense of large amounts of data. Some of the things you'll get to work on include schema registry, real-time data-ingestion, cross data center replication, enrichment, storage and analytics of the data flow.  \n",
      "\n",
      "We are a small passionate team and we are looking for exceptional individuals to be a part of designing, building, deploying (and probably debugging) our Data Pipeline.  \n",
      "\n",
      "**In This Role, You'll Get to**\n",
      "\n",
      "* You will build, administer and scale data pipelines that process hundreds of billions of messages a day spanning over multiple data centers\n",
      "* You will develop and expand upon existing frameworks that is used by Teams throughout Agoda to produce messages to the data pipeline\n",
      "* You will build and manage data ingestion into multiple systems (Hadoop, ElasticSearch, other Distributed Systems)\n",
      "* You will build tools that monitor high data accuracy SLAs for the data pipeline\n",
      "* You will explore available new technologies that improve upon our quality of data, processes and data flow\n",
      "* You will develop quality software through design review, code reviews and test driven development  \n",
      "\n",
      "**What You'll Need To Succeed**\n",
      "\n",
      "* Bachelor's degree in Computer Science / Information Systems / Computer Engineering or related field\n",
      "* 8 plus years of industry experience, preferred at a tech company\n",
      "* Good knowledge of data architecture principles\n",
      "* Have operational experience debugging production issues\n",
      "* An experienced coder, who can stand your ground with experience building systems with purpose that are flexible, well-tested, maintainable and scale\n",
      "* You're detail oriented considering every outcome of a particular decision\n",
      "* You can communicate in technical English with fluidity, both verbal and written\n",
      "* Know more than one programming language (Golang, Java, Scala, Python, C#, etc.)\n",
      "* Good understanding of how Kafka works\n",
      "* Kafka Administrator Experience\n",
      "* Experience with data ingestion from Kafka into Hadoop, ElasticSearch, other Distributed Systems\n",
      "* Strong systems administration skills in Linux\n",
      "* Worked on or contributed to Open Source Project   \n",
      "\n",
      "#telaviv #jerusalem #IT #ENG #4 #sanfrancisco #sanjose #losangeles #sandiego #oakland #denver #miami #orlando #atlanta #chicago #boston #detroit #newyork #portland #philadelphia #dallas #houston #austin #seattle #sydney #melbourne #perth #toronto #vancouver #montreal #shanghai #beijing #shenzhen #prague #Brno #Ostrava #cairo #alexandria #giza #estonia #paris #berlin #munich #hamburg #stuttgart #cologne #frankfurt #hongkong #budapest #jakarta #bali #dublin #telaviv #milan #rome #venice #florence #naples #turin #palermo #bologna #tokyo #osaka #kualalumpur #malta #amsterdam #oslo #manila #warsaw #krakow #doha #alrayyan #riyadh #jeddah #mecca #medina #singapore #seoul #barcelona #madrid #stockholm #zurich #taipei #tainan #taichung #kaohsiung #bangkok #Phuket #istanbul #london #manchester #edinburgh #hcmc #hanoi #lodz #wroclaw #poznan #katowice #rio #salvador #newdelhi #bangalore #bandung #yokohama #nagoya #okinawa #fukuoka #jerusalem #IT #4 #newdelhi #Pune #Hyderabad #Bangalore #Mumbai #Bengaluru #Chennai #Kolkata #Lucknow #sanfrancisco #sanjose #losangeles #sandiego #oakland #denver #miami #orlando #atlanta #chicago #boston #detroit #newyork #portland #philadelphia #dallas #houston #austin #seattle #sydney #melbourne #perth #toronto #vancouver #montreal #shanghai #beijing #shenzhen #prague #Brno #Ostrava #cairo #alexandria #giza #estonia #paris #berlin #munich #hamburg #stuttgart #cologne #frankfurt #hongkong #budapest #jakarta #bali #dublin #telaviv #milan #rome #tokyo #osaka #kualalumpur #amsterdam #oslo #manila #warsaw #krakow #bucharest #moscow #saintpetersburg #capetown #johannesburg #seoul #barcelona #madrid #stockholm #zurich #taipei #bangkok #Phuket #istanbul #london #manchester #edinburgh #kiev #hcmc #hanoi #wroclaw #poznan #katowice #rio #salvador #IT #4 #5  \n",
      "\n",
      "**Equal Opportunity Employer** At Agoda, we pride ourselves on being a company represented by people of all different backgrounds and orientations. We prioritize attracting diverse talent and cultivating an inclusive environment that encourages collaboration and innovation. Employment at Agoda is based solely on a person's merit and qualifications. We are committed to providing equal employment opportunity regardless of sex, age, race, color, national origin, religion, marital status, pregnancy, sexual orientation, gender identity, disability, citizenship, veteran or military status, and other legally protected characteristics.  \n",
      "\n",
      "We will keep your application on file so that we can consider you for future vacancies and you can always ask to have your details removed from the file. For more details please read our privacy policy .  \n",
      "\n",
      "To all recruitment agencies: Agoda does not accept third party resumes. Please do not send resumes to our jobs alias, Agoda employees or any other organization location. Agoda is not responsible for any fees related to unsolicited resumes. \n",
      "\n",
      "\n",
      "\n",
      "\n",
      "\n"
     ]
    },
    {
     "data": {
      "text/plain": [
       "position\n",
       "Data Engineer    880\n",
       "Name: count, dtype: int64"
      ]
     },
     "execution_count": 30,
     "metadata": {},
     "output_type": "execute_result"
    }
   ],
   "source": [
    "[\n",
    "    print(x[1].skills, \"\\n\" * 2, x[1].description, \"\\n\" * 5)\n",
    "    for x in (\n",
    "        df_posting[df_posting.position == \"Data Engineer\"][[\"skills\", \"description\"]]\n",
    "        .sample(10)\n",
    "        .iterrows()\n",
    "    )\n",
    "]\n",
    "_"
   ]
  },
  {
   "cell_type": "code",
   "execution_count": 31,
   "id": "b427706c-9eab-46b1-84c5-0ba19db8d239",
   "metadata": {},
   "outputs": [
    {
     "data": {
      "text/plain": [
       "{'Google Cloud Platform': {'Google BigQuery',\n",
       "  'Google Bigtable',\n",
       "  'Google Cloud Apache Beam',\n",
       "  'Google Cloud Composer',\n",
       "  'Google Cloud Dataflow',\n",
       "  'Google Cloud Functions',\n",
       "  'Google Cloud Platform',\n",
       "  'Google Cloud Run',\n",
       "  'Google Cloud Scheduler',\n",
       "  'Google Data Catalog',\n",
       "  'Google Dataplec',\n",
       "  'Google Dataproc',\n",
       "  'Google Gloud Pub/Sub',\n",
       "  'Google Looker Studio',\n",
       "  'Google Spanner',\n",
       "  'Google Storage',\n",
       "  'Google Vertex AI'},\n",
       " 'Microsoft Azure': {'Azure Blob Storage',\n",
       "  'Azure Cosmos',\n",
       "  'Azure Data Factory',\n",
       "  'Azure Data Lake Storage ',\n",
       "  'Azure Event Grid',\n",
       "  'Azure Event Hubs',\n",
       "  'Azure Function',\n",
       "  'Azure Functions',\n",
       "  'Azure HDInsight',\n",
       "  'Azure Machine Learning',\n",
       "  'Azure Stream Analytics',\n",
       "  'Azure Synapse',\n",
       "  'Azure/Microsoft Purview',\n",
       "  'Microsoft Azure'},\n",
       " 'Amazon Web Services': {'Amazon Athena',\n",
       "  'Amazon Elastic Compute Cloud (EC2)',\n",
       "  'Amazon Elastic MapReduce',\n",
       "  'Amazon EventBridge',\n",
       "  'Amazon Fargate',\n",
       "  'Amazon Firehose',\n",
       "  'Amazon Glue',\n",
       "  'Amazon Kinesis',\n",
       "  'Amazon Lake Formation',\n",
       "  'Amazon Lambda',\n",
       "  'Amazon Managed Streaming',\n",
       "  'Amazon Managed Workflows for Apache Airflow',\n",
       "  'Amazon QuickSight',\n",
       "  'Amazon Redshift',\n",
       "  'Amazon Relational Database Service (RDS)',\n",
       "  'Amazon S3',\n",
       "  'Amazon SageMaker',\n",
       "  'Amazon Step Functions',\n",
       "  'Amazon Web Services'}}"
      ]
     },
     "execution_count": 31,
     "metadata": {},
     "output_type": "execute_result"
    }
   ],
   "source": [
    "skills_set = rules_df.result.unique()\n",
    "\n",
    "cloud_skills_sets = dict()\n",
    "\n",
    "cloud_skills_sets[\"Google Cloud Platform\"] = {x for x in skills_set if \"Google\" in x}\n",
    "cloud_skills_sets[\"Microsoft Azure\"] = {x for x in skills_set if \"Azure\" in x}\n",
    "cloud_skills_sets[\"Amazon Web Services\"] = {x for x in skills_set if \"Amazon\" in x}\n",
    "\n",
    "cloud_skills_sets"
   ]
  },
  {
   "cell_type": "code",
   "execution_count": 32,
   "id": "78eaa15c-5d41-42cb-9f6a-9a883309d5ae",
   "metadata": {
    "scrolled": true
   },
   "outputs": [],
   "source": [
    "for cloud, skills_set in cloud_skills_sets.items():\n",
    "    df_posting[\"skills\"] = df_posting[\"skills\"].map(\n",
    "        lambda x: x | {cloud} if x & skills_set else x\n",
    "    )"
   ]
  },
  {
   "cell_type": "code",
   "execution_count": 33,
   "id": "37b825e0-5780-4ba9-8cce-ac789061e4db",
   "metadata": {},
   "outputs": [
    {
     "data": {
      "text/plain": [
       "{'Amazon Web Services', 'Google Cloud Platform', 'Microsoft Azure'}"
      ]
     },
     "execution_count": 33,
     "metadata": {},
     "output_type": "execute_result"
    }
   ],
   "source": [
    "clouds_set = set(cloud_skills_sets.keys())\n",
    "clouds_set"
   ]
  },
  {
   "cell_type": "code",
   "execution_count": 34,
   "id": "8fe49ec8-e3f8-4283-bab7-0c12e3fb4b91",
   "metadata": {},
   "outputs": [],
   "source": [
    "df_posting[\"skills\"] = df_posting[\"skills\"].map(\n",
    "    lambda x: x | {\"Cloud\"} if x & clouds_set else x\n",
    ")"
   ]
  },
  {
   "cell_type": "code",
   "execution_count": 35,
   "id": "32258c52-0724-4619-9a71-97a5d690e7e6",
   "metadata": {},
   "outputs": [
    {
     "name": "stdout",
     "output_type": "stream",
     "text": [
      "skills defined for 98% jobs\n",
      "14 jobs doesn`t have skills\n"
     ]
    }
   ],
   "source": [
    "count_has_skills = (df_posting[\"skills\"] != set()).sum()\n",
    "count_all = df_posting[\"skills\"].count()\n",
    "print(\"skills defined for\", \"{:.0%}\".format(count_has_skills / count_all), \"jobs\")\n",
    "print((count_all - count_has_skills), \"jobs doesn`t have skills\")"
   ]
  },
  {
   "cell_type": "code",
   "execution_count": 36,
   "id": "c2c92198-f02c-443c-8f51-c05ff1a48509",
   "metadata": {
    "scrolled": true
   },
   "outputs": [
    {
     "name": "stdout",
     "output_type": "stream",
     "text": [
      "Data Engineer / Data Scientist (m/f/d) Bachelor of Science Computer Science  \n",
      "\n",
      "For Our Information Technology IT Department At Our Head Office In Stuttgart Or At Our Waterworks In Langenau, We Are Looking For You With Immediate Effect As  \n",
      "\n",
      "Data Engineer / Data Scientist (m/f/d)  \n",
      "\n",
      "Bachelor of Science Computer Science  \n",
      "\n",
      "Your tasks  \n",
      "\n",
      "* Planning, operating and monitoring the databases of our digital data acquisition system\n",
      "* Creation of database queries and evaluation algorithms (e.g. application of modules for multivariate statistics and artificial intelligence)\n",
      "* Collaboration with external service providers in the field of data science\n",
      "* Data migration of legacy data\n",
      "* Collaboration in IT projects in the area of digitization of business processes   \n",
      "\n",
      "Your profile  \n",
      "\n",
      "* Degree in computer science and at least 2 years of professional experience in database management / data science / big data or comparable training in the IT field as well as several years of relevant professional experience in the above-mentioned field\n",
      "* Sound knowledge in the field of databases / data science / big data\n",
      "* very good knowledge of network and security technology in the IT and OT area as well as BSI IT-Grundschutz, ISO27001 and IEC 62443\n",
      "* Experience in IT project management\n",
      "* strong ability to work in a team, service orientation as well as careful, risk-conscious, structured and quality-oriented way of working\n",
      "* Confident knowledge of written and spoken German, min. B2   \n",
      "\n",
      "We offer  \n",
      "\n",
      "* a varied, responsible workplace, friendly colleagues and active teamwork in a modern company\n",
      "* Regulated, flexible working hours, mobile working\n",
      "* Payment according to the collective agreement for utility companies (TV-V)\n",
      "* Company pension scheme for the public sector (ZVK)\n",
      "* Further training opportunities\n",
      "* Company health management\n",
      "* Participation in the JobRad\n",
      "* Corporate benefits   \n",
      "\n",
      "Your application  \n",
      "\n",
      "We look forward to receiving your application, which you are welcome to send us, stating your  \n",
      "\n",
      "salary expectations and your possible starting date via our online application form.  \n",
      "\n",
      "form that you can submit.\n",
      "Data Engineer / Data Scientist (m/f/d) Bachelor of Science Computer Science  \n",
      "\n",
      "For Our Information Technology IT Department At Our Head Office In Stuttgart Or At Our Waterworks In Langenau, We Are Looking For You With Immediate Effect As  \n",
      "\n",
      "Data Engineer / Data Scientist (m/f/d)  \n",
      "\n",
      "Bachelor of Science Computer Science  \n",
      "\n",
      "Your tasks  \n",
      "\n",
      "* Planning, operating and monitoring the databases of our digital data acquisition system\n",
      "* Creation of database queries and evaluation algorithms (e.g. application of modules for multivariate statistics and artificial intelligence)\n",
      "* Collaboration with external service providers in the field of data science\n",
      "* Data migration of legacy data\n",
      "* Collaboration in IT projects in the area of digitization of business processes   \n",
      "\n",
      "Your profile  \n",
      "\n",
      "* Degree in computer science and at least 2 years of professional experience in database management / data science / big data or comparable training in the IT field as well as several years of relevant professional experience in the above-mentioned field\n",
      "* Sound knowledge in the field of databases / data science / big data\n",
      "* very good knowledge of network and security technology in the IT and OT area as well as BSI IT-Grundschutz, ISO27001 and IEC 62443\n",
      "* Experience in IT project management\n",
      "* strong ability to work in a team, service orientation as well as careful, risk-conscious, structured and quality-oriented way of working\n",
      "* Confident knowledge of written and spoken German, min. B2   \n",
      "\n",
      "We offer  \n",
      "\n",
      "* a varied, responsible workplace, friendly colleagues and active teamwork in a modern company\n",
      "* Regulated, flexible working hours, mobile working\n",
      "* Payment according to the collective agreement for utility companies (TV-V)\n",
      "* Company pension scheme for the public sector (ZVK)\n",
      "* Further training opportunities\n",
      "* Company health management\n",
      "* Participation in the JobRad\n",
      "* Corporate benefits   \n",
      "\n",
      "Your application  \n",
      "\n",
      "We look forward to receiving your application, which you are welcome to send us, stating your  \n",
      "\n",
      "salary expectations and your possible starting date via our online application form.  \n",
      "\n",
      "form that you can submit.\n",
      "**About**   \n",
      "\n",
      "*Bosch Thermotechnik GmbH*   \n",
      "\n",
      "* Logistics\n",
      "* Data Management\n",
      "* Data Analysis\n",
      "* Algorithms\n",
      "* Data Quality\n",
      "* Data Integration\n",
      "* Data Management\n",
      "* Communication\n",
      "* User Experience\n",
      "* Reporting\n",
      "* Networking\n",
      "* Business Process\n",
      "* Business Process\n",
      "* User Interface\n",
      "* Computer Science\n",
      "* Data Integration\n",
      "* Software Engineering\n",
      "* Algorithms\n",
      "* Data Management\n",
      "* Data Modeling\n",
      "* Plochingen, Baden-Württemberg, Germany  \n",
      "\n",
      "* Data Engineer\n",
      "* Data Infrastructure  \n",
      "\n",
      "* English\n",
      "**About**   \n",
      "\n",
      "*Bosch Thermotechnik GmbH*   \n",
      "\n",
      "* Logistics\n",
      "* Data Management\n",
      "* Data Analysis\n",
      "* Algorithms\n",
      "* Data Quality\n",
      "* Data Integration\n",
      "* Data Management\n",
      "* Communication\n",
      "* User Experience\n",
      "* Reporting\n",
      "* Networking\n",
      "* Business Process\n",
      "* Business Process\n",
      "* User Interface\n",
      "* Computer Science\n",
      "* Data Integration\n",
      "* Data Analysis\n",
      "* Data Modeling\n",
      "* Data Management\n",
      "* Data Visualization\n",
      "* Algorithms\n",
      "* Software Engineering\n",
      "* User Interface\n",
      "* Statistics\n",
      "* Wetzlar, Hesse, Germany  \n",
      "\n",
      "* Data Engineer\n",
      "* Data Infrastructure  \n",
      "\n",
      "* English\n",
      "None\n",
      "**Your Tasks**   \n",
      "\n",
      "**Ms. Maike Hunschede** *Head of Recruiting*\n",
      "**ABOUT US** Since 2015, we've been disrupting influencer and social media marketing like few other agencies. We are currently establishing ourselves as one of the largest social powerhouses in the DACH region. With over **210 social-first employees** , **two in-house studios** , **our own production company** , proprietary social technology, and media channels with over **1 million followers** , we are at the forefront of the industry.\n",
      "\n",
      "With locations in **Berlin, Hamburg, and Cologne** , we specialize in **creation, project management, consulting, social media, performance marketing, and (post-)production.**\n",
      "\n",
      "**YOUR RESPONSIBILITIES**\n",
      "\n",
      "As a **Data Engineer** , you will play a crucial role in managing, optimizing, and expanding our data infrastructure. Your tasks will include:\n",
      "\n",
      "* **Data Management \\& Optimization** -- Take ownership of our **data warehouse** , ensuring **high data quality, availability, and scalability.**\n",
      "\n",
      "* **ETL Pipeline Development** -- Design, build, and optimize **ETL/ELT workflows** to efficiently process and transform data.\n",
      "\n",
      "* **Dashboard Development** -- Support our teams and clients by **developing and maintaining data dashboards** that enable actionable insights.\n",
      "\n",
      "* **Workflow Optimization** -- Improve data workflows to ensure seamless integration across different teams.\n",
      "\n",
      "* **Troubleshooting \\& Consulting** -- Identify and resolve data issues while advising teams on best practices for **data flows and architecture** .\n",
      "\n",
      "* **Technology Management** -- Collaborate with our **tech service providers** to ensure our data tools remain efficient and up to date.\n",
      "\n",
      "* **Data Flow Management** -- Oversee the entire **data pipeline** , from raw data ingestion to dashboard visualization.\n",
      "**ABOUT US**\n",
      "\n",
      "Since 2015, we've been disrupting influencer and social media marketing like few other agencies. We are currently establishing ourselves as one of the largest social powerhouses in the DACH region. With over **210 social-first employees** , **two in-house studios** , **our own production company** , proprietary social technology, and media channels with over **1 million followers** , we are at the forefront of the industry.\n",
      "\n",
      "With locations in **Berlin, Hamburg, and Cologne** , we specialize in **creation, project management, consulting, social media, performance marketing, and (post-)production.**\n",
      "\n",
      "**YOUR RESPONSIBILITIES**\n",
      "\n",
      "As a **Data Analyst / Data Engineer** , you will play a crucial role in analyzing, managing, and working with our data sets and infrastructure. Your tasks will include:\n",
      "\n",
      "* **Data Management \\& Optimization** -- Take ownership of our data warehouse, ensuring high data quality, availability, and scalability.\n",
      "\n",
      "* **Dashboard Development** -- Support our teams and clients by developing and maintaining data dashboards that enable actionable insights.\n",
      "\n",
      "* **Troubleshooting \\& Consulting** -- Identify and resolve data issues while advising teams on best practices for data flows and architecture.\n",
      "\n",
      "* **Collaboration with Client Teams** -- Analyze the performance and effectiveness of social media brands, assets, and campaigns.\n",
      "\n",
      "* **Lead Change through Data -- Present analytical results to internal and external stakeholders to enable data-driven decision-making.**\n",
      "Join our team and you'll be responsible for building, maintaining, and optimizing data workflows to drive insights and decision-making in marketing and business operations.\n",
      "\n",
      "Working in the Marketing Data Engineering department, you will develop scalable data pipelines, enhance data quality, and collaborate with stakeholders to deliver high-impact data solutions.  \n",
      "You will play a vital role as we reimagine the labour market to make it work for everybody.\n",
      "\n",
      "**Your responsibilities**\n",
      "\n",
      "* Design, create, and optimize ETL/ELT workflows to support our data landscape.\n",
      "* Collaborate with stakeholders to prepare datasets for decision-making, focusing on data modeling, migration, and optimization.\n",
      "* Proactively assess and ensure data quality by leveraging modern tools and techniques.\n",
      "* Develop and maintain technical documentation, specifications, and metadata for accessible datasets.\n",
      "* Work with APIs (e.g., LinkedIn, Google Ads, Meta) to integrate marketing data into our pipelines.\n",
      "* Be a part of our team and create as well as operate automated pipelines for data extraction, transformation and integration.\n",
      "* You will work with different types of data, data sources, infrastructure as well as existing building blocks.\n",
      "* In addition, you make data from source systems available for data analysis or business process automation and implement data architecture conforming to defined (semantic) data models as well as data flow/pipelines.\n",
      "* Furthemore, you ensure defined/required data quality and make data quality transparent.\n",
      "* You will also collaborate with business stakeholders, domain experts, and data experts.\n",
      "* Last but not least, you work with IT teams, management and/or data architects as well as scientists to define goals of data preparation.\n",
      "* Be a part of our team and create as well as operate automated pipelines for data extraction, transformation and integration.\n",
      "* You will work with different types of data, data sources, infrastructure as well as existing building blocks.\n",
      "* In addition, you make data from source systems available for data analysis or business process automation and implement data architecture conforming to defined (semantic) data models as well as data flow/pipelines.\n",
      "* Furthemore, you ensure defined/required data quality and make data quality transparent.\n",
      "* You will also collaborate with business stakeholders, domain experts, and data experts.\n",
      "* Last but not least, you work with IT teams, management and/or data architects as well as scientists to define goals of data preparation.\n",
      "##### Your mission\n",
      "\n",
      "Review opportunity details: <https://www.syro.co/en/company-about-syroco/senior-data-engineer/>\n",
      "**Your Tasks:**   \n",
      "\n",
      "Husqvarna\n",
      "About this job\n",
      "- -------------\n",
      "\n",
      "Your Mission\n",
      "- -----------\n",
      "\n",
      "Data is at the center of everything we do at Predium and your work will touch every part of the company---from product strategy to creating powerful customer experiences. You will help shape the data models, tooling, data pipelines and interfaces of the \"Predium Engine\". You will be joining as an early member of the team that will help Predium build for scale.\n",
      "\n",
      "Your Responsibilities\n",
      "- --------------------\n",
      "\n",
      "* You will become an expert in building simulation and sustainability analytics.\n",
      "* You will help build both internal and user-facing tools that improve our ability to visualise, analyse, understand, and act on our customers' ESG performance.\n",
      "* You will closely work with our CPO and co-founder on evaluating, developing and showcasing novel data-driven methodologies and use-cases.\n",
      "\n",
      "Your Profile\n",
      "- -----------\n",
      "\n",
      "* You are willing to roll up your sleeves to work with unstructured and inconsistent data.\n",
      "* You have good intuition for how numbers in a table map to the real world.\n",
      "* You have a passion for translating scientific methods and findings into concrete software requirements and data models.\n",
      "* You love to go deep in multiple subject areas and tackle new challenges that cross disciplines.\n",
      "* You're excited to join a startup, take responsibility for the fate of the company, and move fast.\n",
      "* You are excited about solving climate change and eager to contribute to doing so at high scale.\n",
      "\n",
      "Bonus Points:\n",
      "- ------------\n",
      "\n",
      "* You are in an advanced stage of your studies in computer science, electrical engineering, or a comparable course of study.\n",
      "* You have already gained first practical experience in building customer-ready data models and pipelines.\n",
      "* You have already gained first practical experience in data-driven management consulting.\n",
      "\n",
      "Why Predium?\n",
      "- -----------\n",
      "\n",
      "* Be a part of our diverse and highly motivated team, and contribute to an outstanding company culture\n",
      "* Flexibility to work from home or our office in the heart of Munich\n",
      "* Competitive compensation and benefit packages: Wellpass membership, free snacks and drinks in our office, and more\n",
      "* State-of-the-art equipment and digital tools for hassle-free workflows\n",
      "* Regular company \\& team events\n",
      "* And much more ...\n"
     ]
    },
    {
     "data": {
      "text/plain": [
       "{'Amazon Web Services', 'Google Cloud Platform', 'Microsoft Azure'}"
      ]
     },
     "execution_count": 36,
     "metadata": {},
     "output_type": "execute_result"
    }
   ],
   "source": [
    "df_posting[df_posting[\"skills\"] == set()][\"description\"].map(print)\n",
    "_"
   ]
  },
  {
   "cell_type": "code",
   "execution_count": 37,
   "id": "bbe48989-2d8d-49e5-a4b5-7290e1d529ed",
   "metadata": {},
   "outputs": [],
   "source": [
    "df_skills = df_posting[[\"id\", \"position\", \"skills\"]].explode(\"skills\").dropna()"
   ]
  },
  {
   "cell_type": "code",
   "execution_count": 38,
   "id": "6375799d-7baf-4251-92fd-c141a3ff4b5a",
   "metadata": {},
   "outputs": [
    {
     "name": "stdout",
     "output_type": "stream",
     "text": [
      "<class 'pandas.core.frame.DataFrame'>\n",
      "Index: 8952 entries, 0 to 879\n",
      "Data columns (total 3 columns):\n",
      " #   Column    Non-Null Count  Dtype \n",
      "---  ------    --------------  ----- \n",
      " 0   id        8952 non-null   object\n",
      " 1   position  8952 non-null   object\n",
      " 2   skills    8952 non-null   object\n",
      "dtypes: object(3)\n",
      "memory usage: 279.8+ KB\n"
     ]
    }
   ],
   "source": [
    "df_skills.info()"
   ]
  },
  {
   "cell_type": "code",
   "execution_count": 39,
   "id": "c8e15e41-dfba-4807-808c-7298baa78ca3",
   "metadata": {},
   "outputs": [
    {
     "data": {
      "text/plain": [
       "skills\n",
       "Cloud                    740\n",
       "Python                   715\n",
       "SQL                      633\n",
       "Amazon Web Services      407\n",
       "Google Cloud Platform    369\n",
       "Microsoft Excel          360\n",
       "Microsoft Azure          339\n",
       "Spark                    279\n",
       "Google Dataproc          270\n",
       "Airflow                  236\n",
       "Agile                    208\n",
       "Databricks               199\n",
       "BI                       192\n",
       "Apache Kafka             178\n",
       "Snowflake                175\n",
       "Name: count, dtype: int64"
      ]
     },
     "execution_count": 39,
     "metadata": {},
     "output_type": "execute_result"
    }
   ],
   "source": [
    "df_skills.skills.value_counts().head(15)"
   ]
  },
  {
   "cell_type": "code",
   "execution_count": 40,
   "id": "46fae702-3f7a-439a-a193-49ee5712b8e7",
   "metadata": {},
   "outputs": [],
   "source": [
    "pd.options.display.float_format = \"{:.0%}\".format"
   ]
  },
  {
   "cell_type": "code",
   "execution_count": 41,
   "id": "e94a869b-f9bc-4fd2-a668-7f467b1cd4fd",
   "metadata": {},
   "outputs": [
    {
     "data": {
      "text/plain": [
       "skills\n",
       "Cloud                   84%\n",
       "Python                  81%\n",
       "SQL                     72%\n",
       "Amazon Web Services     46%\n",
       "Google Cloud Platform   42%\n",
       "Microsoft Excel         41%\n",
       "Microsoft Azure         39%\n",
       "Spark                   32%\n",
       "Google Dataproc         31%\n",
       "Airflow                 27%\n",
       "Agile                   24%\n",
       "Databricks              23%\n",
       "BI                      22%\n",
       "Apache Kafka            20%\n",
       "Snowflake               20%\n",
       "Terraform               18%\n",
       "Orchestration           16%\n",
       "Docker                  16%\n",
       "ML                      15%\n",
       "Kubernetes              14%\n",
       "Streaming               14%\n",
       "Java                    14%\n",
       "Google BigQuery         14%\n",
       "PostgreSQL              13%\n",
       "Batch processing        11%\n",
       "Name: count, dtype: float64"
      ]
     },
     "execution_count": 41,
     "metadata": {},
     "output_type": "execute_result"
    }
   ],
   "source": [
    "skills_value_counts = df_skills.skills.value_counts()\n",
    "skills_value_counts.head(25) / len(df_posting)"
   ]
  },
  {
   "cell_type": "code",
   "execution_count": 42,
   "id": "2ee61ec7-2240-48b5-ba59-17e38f6dc582",
   "metadata": {},
   "outputs": [
    {
     "data": {
      "text/plain": [
       "119"
      ]
     },
     "execution_count": 42,
     "metadata": {},
     "output_type": "execute_result"
    }
   ],
   "source": [
    "len(df_skills.skills.unique())"
   ]
  },
  {
   "cell_type": "code",
   "execution_count": 43,
   "id": "a946840b-e27f-4eba-a9c5-b2ac831aab6d",
   "metadata": {},
   "outputs": [
    {
     "data": {
      "text/plain": [
       "skills\n",
       "Google Vertex AI           2\n",
       "DLT                        1\n",
       "UC                         1\n",
       "Columnar DBMS              1\n",
       "Google Cloud Composer      1\n",
       "SISTRA                     1\n",
       "Power Query                1\n",
       "Impala                     1\n",
       "Azure/Microsoft Purview    1\n",
       "XGBoost                    1\n",
       "Name: count, dtype: int64"
      ]
     },
     "execution_count": 43,
     "metadata": {},
     "output_type": "execute_result"
    }
   ],
   "source": [
    "skills_value_counts.tail(10)"
   ]
  },
  {
   "cell_type": "code",
   "execution_count": 44,
   "id": "f07f8a6c-0225-4433-86e0-bf700d7f92c3",
   "metadata": {},
   "outputs": [
    {
     "data": {
      "text/plain": [
       "43"
      ]
     },
     "execution_count": 44,
     "metadata": {},
     "output_type": "execute_result"
    }
   ],
   "source": [
    "sum(skills_value_counts / len(df_posting) >= 0.05)"
   ]
  },
  {
   "cell_type": "code",
   "execution_count": 45,
   "id": "c3d62bb5-18cc-4836-bf63-3619d0735170",
   "metadata": {},
   "outputs": [
    {
     "data": {
      "text/plain": [
       "{'Amazon Athena',\n",
       " 'Amazon Elastic Compute Cloud (EC2)',\n",
       " 'Amazon Elastic MapReduce',\n",
       " 'Amazon EventBridge',\n",
       " 'Amazon Fargate',\n",
       " 'Amazon Firehose',\n",
       " 'Amazon Glue',\n",
       " 'Amazon Kinesis',\n",
       " 'Amazon Lake Formation',\n",
       " 'Amazon Lambda',\n",
       " 'Amazon Managed Streaming',\n",
       " 'Amazon Managed Workflows for Apache Airflow',\n",
       " 'Amazon QuickSight',\n",
       " 'Amazon Redshift',\n",
       " 'Amazon Relational Database Service (RDS)',\n",
       " 'Amazon S3',\n",
       " 'Amazon SageMaker',\n",
       " 'Amazon Step Functions',\n",
       " 'Amazon Web Services',\n",
       " 'Azure Blob Storage',\n",
       " 'Azure Cosmos',\n",
       " 'Azure Data Factory',\n",
       " 'Azure Data Lake Storage ',\n",
       " 'Azure Event Grid',\n",
       " 'Azure Event Hubs',\n",
       " 'Azure Function',\n",
       " 'Azure Functions',\n",
       " 'Azure HDInsight',\n",
       " 'Azure Machine Learning',\n",
       " 'Azure Stream Analytics',\n",
       " 'Azure Synapse',\n",
       " 'Azure/Microsoft Purview',\n",
       " 'Google BigQuery',\n",
       " 'Google Bigtable',\n",
       " 'Google Cloud Apache Beam',\n",
       " 'Google Cloud Composer',\n",
       " 'Google Cloud Dataflow',\n",
       " 'Google Cloud Functions',\n",
       " 'Google Cloud Platform',\n",
       " 'Google Cloud Run',\n",
       " 'Google Cloud Scheduler',\n",
       " 'Google Data Catalog',\n",
       " 'Google Dataplec',\n",
       " 'Google Dataproc',\n",
       " 'Google Gloud Pub/Sub',\n",
       " 'Google Looker Studio',\n",
       " 'Google Spanner',\n",
       " 'Google Storage',\n",
       " 'Google Vertex AI',\n",
       " 'Microsoft Azure'}"
      ]
     },
     "execution_count": 45,
     "metadata": {},
     "output_type": "execute_result"
    }
   ],
   "source": [
    "from functools import reduce\n",
    "\n",
    "all_cloud_skills_set = reduce(lambda x, y: x | y, cloud_skills_sets.values())\n",
    "all_cloud_skills_set"
   ]
  },
  {
   "cell_type": "code",
   "execution_count": 46,
   "id": "d571ba78-2c08-459a-98b0-b8d35a4b58bc",
   "metadata": {},
   "outputs": [
    {
     "data": {
      "text/plain": [
       "<Axes: ylabel='skills'>"
      ]
     },
     "execution_count": 46,
     "metadata": {},
     "output_type": "execute_result"
    },
    {
     "data": {
      "image/png": "[encoded data removed]",
      "text/plain": [
       "<Figure size 1000x1000 with 1 Axes>"
      ]
     },
     "metadata": {},
     "output_type": "display_data"
    }
   ],
   "source": [
    "import matplotlib.pyplot as plt\n",
    "\n",
    "skills_value_counts[\n",
    "    (skills_value_counts / len(df_posting) >= 0.05)\n",
    "    & (\n",
    "        skills_value_counts.index.map(\n",
    "            lambda x: x not in all_cloud_skills_set - clouds_set\n",
    "        )\n",
    "    )\n",
    "].sort_values().plot(kind=\"barh\", figsize=(10, 10))"
   ]
  },
  {
   "cell_type": "code",
   "execution_count": 47,
   "id": "5788813c-2733-4d36-8c66-ce120b63350a",
   "metadata": {},
   "outputs": [
    {
     "data": {
      "text/plain": [
       "<Axes: ylabel='skills'>"
      ]
     },
     "execution_count": 47,
     "metadata": {},
     "output_type": "execute_result"
    },
    {
     "data": {
      "image/png": "[encoded data removed]",
      "text/plain": [
       "<Figure size 1000x1000 with 1 Axes>"
      ]
     },
     "metadata": {},
     "output_type": "display_data"
    }
   ],
   "source": [
    "skills_value_counts[\n",
    "    (skills_value_counts.index.map(lambda x: x in all_cloud_skills_set))\n",
    "].sort_values().plot(kind=\"barh\", figsize=(10, 10))"
   ]
  },
  {
   "cell_type": "code",
   "execution_count": 48,
   "id": "e51bc3fa-e1b5-4938-88e8-8ee4d496a7b2",
   "metadata": {},
   "outputs": [
    {
     "name": "stdout",
     "output_type": "stream",
     "text": [
      "Loaded 8952 rows to x-avenue-450615-c3.jp_test.jobs_skills\n"
     ]
    }
   ],
   "source": [
    "from common.utils import df_to_bq\n",
    "\n",
    "df_to_bq(df_skills, \"jobs_skills\", \"jp_test\", project, bq_client=None, truncate=False)"
   ]
  },
  {
   "cell_type": "code",
   "execution_count": 49,
   "id": "0a218cb2-2e51-4d1f-be77-034aef53f9dc",
   "metadata": {},
   "outputs": [
    {
     "name": "stdout",
     "output_type": "stream",
     "text": [
      "Loaded 880 rows to x-avenue-450615-c3.jp_test.tmp_jobs_with_skills\n"
     ]
    }
   ],
   "source": [
    "df_to_bq(\n",
    "    df_posting,\n",
    "    \"tmp_jobs_with_skills\",\n",
    "    \"jp_test\",\n",
    "    project,\n",
    "    bq_client=None,\n",
    "    truncate=False,\n",
    ")"
   ]
  },
  {
   "cell_type": "code",
   "execution_count": null,
   "id": "dc0ee45f-12e7-4b14-97b4-8ffccfddae29",
   "metadata": {},
   "outputs": [],
   "source": []
  }
 ],
 "metadata": {
  "kernelspec": {
   "display_name": "Python 3 (ipykernel)",
   "language": "python",
   "name": "python3"
  },
  "language_info": {
   "codemirror_mode": {
    "name": "ipython",
    "version": 3
   },
   "file_extension": ".py",
   "mimetype": "text/x-python",
   "name": "python",
   "nbconvert_exporter": "python",
   "pygments_lexer": "ipython3",
   "version": "3.11.6"
  }
 },
 "nbformat": 4,
 "nbformat_minor": 5
}
