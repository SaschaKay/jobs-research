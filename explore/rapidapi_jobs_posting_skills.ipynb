{
 "cells": [
  {
   "cell_type": "code",
   "execution_count": 1,
   "id": "bc612d54-3e46-43df-9911-7c095dfb2cae",
   "metadata": {},
   "outputs": [],
   "source": [
    "%load_ext jupyter_black"
   ]
  },
  {
   "cell_type": "code",
   "execution_count": 39,
   "id": "e76b8d0a-375e-4707-9753-e2b56f5ebf33",
   "metadata": {},
   "outputs": [],
   "source": [
    "import pickle\n",
    "from google.cloud import bigquery\n",
    "import pandas as pd\n",
    "import matplotlib.pyplot as plt\n",
    "from functools import reduce\n",
    "from collections import namedtuple\n",
    "from typing import Iterable, Literal\n",
    "from copy import deepcopy\n",
    "import re"
   ]
  },
  {
   "cell_type": "code",
   "execution_count": 3,
   "id": "4fd3d705-1332-421e-bc79-27c46af31aea",
   "metadata": {},
   "outputs": [],
   "source": [
    "import warnings\n",
    "import sys\n",
    "import os"
   ]
  },
  {
   "cell_type": "code",
   "execution_count": 4,
   "id": "97a1ae74-4c90-417a-bb97-c9fd4f9f2dc7",
   "metadata": {},
   "outputs": [],
   "source": [
    "from collections import namedtuple"
   ]
  },
  {
   "cell_type": "code",
   "execution_count": 5,
   "id": "3488869e-97e0-42e4-acb5-b1e0500bac27",
   "metadata": {},
   "outputs": [],
   "source": [
    "project = \"x-avenue-450615-c3\"\n",
    "dataset_name = \"jobs_postings\"\n",
    "location = \"europe-west1\"\n",
    "\n",
    "bq_client = bigquery.Client()"
   ]
  },
  {
   "cell_type": "code",
   "execution_count": 6,
   "id": "da6bec10-a418-4d82-81aa-d2ac345c983f",
   "metadata": {},
   "outputs": [
    {
     "name": "stdout",
     "output_type": "stream",
     "text": [
      "/home/jovyan/work/repos/jobs-research/pipelines/rapidapi_jobs_posting was added to sys.path\n",
      "/home/jovyan/work/repos/jobs-research was added to sys.path\n"
     ]
    }
   ],
   "source": [
    "CURRENT_DIRECTORY = os.getcwd()\n",
    "PROJECT_ROOT = os.path.abspath(\n",
    "    os.path.join(CURRENT_DIRECTORY, \"../pipelines/rapidapi_jobs_posting/\")\n",
    ")\n",
    "if PROJECT_ROOT not in sys.path:\n",
    "    sys.path.append(PROJECT_ROOT)\n",
    "    print(f\"{PROJECT_ROOT} was added to sys.path\")\n",
    "\n",
    "REPO_ROOT = os.path.abspath(os.path.join(CURRENT_DIRECTORY, \"..\"))\n",
    "if REPO_ROOT not in sys.path:\n",
    "    sys.path.append(REPO_ROOT)\n",
    "    print(f\"{REPO_ROOT} was added to sys.path\")"
   ]
  },
  {
   "cell_type": "code",
   "execution_count": 7,
   "id": "38e56b66-d964-4f7a-b27f-5dde208086db",
   "metadata": {},
   "outputs": [],
   "source": [
    "from common.utils import bq_table_to_df"
   ]
  },
  {
   "cell_type": "code",
   "execution_count": 8,
   "id": "5332e104-eabd-4a0f-bb2f-b035c59ba44f",
   "metadata": {},
   "outputs": [],
   "source": [
    "sheet_url = \"https://docs.google.com/spreadsheets/d/1clAiWIVMD5bCJRHJr9-p2vw9h99W5sByAtqThIGREpo/edit?gid=0#gid=0\"\n",
    "csv_export_url = sheet_url.replace(\"/edit?gid=\", \"/export?format=csv&gid=\")"
   ]
  },
  {
   "cell_type": "code",
   "execution_count": 205,
   "id": "e2848be0-868a-4220-ba36-0c580bc65420",
   "metadata": {},
   "outputs": [
    {
     "data": {
      "text/plain": [
       "'https://docs.google.com/spreadsheets/d/1clAiWIVMD5bCJRHJr9-p2vw9h99W5sByAtqThIGREpo/export?format=csv&gid=0#gid=0'"
      ]
     },
     "execution_count": 205,
     "metadata": {},
     "output_type": "execute_result"
    }
   ],
   "source": [
    "csv_export_url"
   ]
  },
  {
   "cell_type": "code",
   "execution_count": 206,
   "id": "bf4901fb-0f8c-4ab9-9058-51f35bbdb8f2",
   "metadata": {},
   "outputs": [],
   "source": [
    "rules_df = pd.read_csv(csv_export_url)"
   ]
  },
  {
   "cell_type": "code",
   "execution_count": 207,
   "id": "ae28c9f8-8460-4728-a862-528e69ee2f28",
   "metadata": {},
   "outputs": [
    {
     "name": "stdout",
     "output_type": "stream",
     "text": [
      "<class 'pandas.core.frame.DataFrame'>\n",
      "RangeIndex: 79 entries, 0 to 78\n",
      "Data columns (total 4 columns):\n",
      " #   Column            Non-Null Count  Dtype \n",
      "---  ------            --------------  ----- \n",
      " 0   keyword           18 non-null     object\n",
      " 1   result            79 non-null     object\n",
      " 2   case_sensitive    79 non-null     bool  \n",
      " 3   spaces_sensitive  79 non-null     bool  \n",
      "dtypes: bool(2), object(2)\n",
      "memory usage: 1.5+ KB\n"
     ]
    }
   ],
   "source": [
    "rules_df.info()"
   ]
  },
  {
   "cell_type": "code",
   "execution_count": 208,
   "id": "eee4a0a0-8fae-4176-b1ff-822b3f387f51",
   "metadata": {},
   "outputs": [],
   "source": [
    "REPLACE_WITH_SPACES = r\"[!\\\"$\\%'()\\+,\\-./:;?]\"\n",
    "\n",
    "\n",
    "def prepare_text(\n",
    "    text: str,\n",
    "    case_sensitive: bool,\n",
    "    spaces_sensitive: bool,\n",
    "    replace_with_spaces=REPLACE_WITH_SPACES,\n",
    ") -> str:\n",
    "    if not case_sensitive:\n",
    "        text = text.lower()\n",
    "    if not spaces_sensitive:\n",
    "        text = text.replace(\" \", \"\")\n",
    "    else:\n",
    "\n",
    "        text = re.sub(replace_with_spaces, \" \", text)\n",
    "        text = \" \" + text.strip() + \" \"\n",
    "    return text"
   ]
  },
  {
   "cell_type": "code",
   "execution_count": 209,
   "id": "a648c6d6-c8d8-4257-a784-5f3589312158",
   "metadata": {},
   "outputs": [],
   "source": [
    "class MappingDict:\n",
    "    def __init__(\n",
    "        self,\n",
    "        rules: dict,\n",
    "        case_sensitive: bool = False,\n",
    "        spaces_sensitive: bool = False,\n",
    "    ):\n",
    "        self.rules = rules\n",
    "        self.case_sensitive = case_sensitive\n",
    "        self.spaces_sensitive = spaces_sensitive\n",
    "        self.is_prepared = False\n",
    "\n",
    "    def prepare(self):\n",
    "        if not self.is_prepared:\n",
    "            prepared_rules = {}\n",
    "            for key, val in self.rules.items():\n",
    "                prepared_key = prepare_text(\n",
    "                    key, self.case_sensitive, self.spaces_sensitive\n",
    "                )\n",
    "                prepared_rules[prepared_key] = val\n",
    "                for char in REPLACE_WITH_SPACES:\n",
    "                    if self.spaces_sensitive and prepared_key != key and char in key:\n",
    "                        warnings.warn(\n",
    "                            f\"'{char}' in the keyword '{key}' was replaced with a space.\",\n",
    "                            UserWarning,\n",
    "                        )\n",
    "            self.rules = prepared_rules\n",
    "            self.is_prepared = True\n",
    "        else:\n",
    "            warnings.warn(\"MappingDict is already prepared.\", UserWarning)\n",
    "        return self"
   ]
  },
  {
   "cell_type": "code",
   "execution_count": 228,
   "id": "8a0d3d92-38db-4b7e-91d7-854cb61abe1a",
   "metadata": {},
   "outputs": [],
   "source": [
    "class MappingRules:\n",
    "    def __init__(self, attr_name: str, rules_df: pd.DataFrame):\n",
    "        self.attr_name = attr_name\n",
    "        self.rules_df = rules_df[\n",
    "            [\"keyword\", \"result\", \"case_sensitive\", \"spaces_sensitive\"]\n",
    "        ]\n",
    "\n",
    "        self._check_for_nulls()\n",
    "        self.rules_df[\"keyword\"] = self.rules_df.apply(\n",
    "            lambda x: x.result if pd.isna(x.keyword) else x.keyword, axis=\"columns\"\n",
    "        )\n",
    "        self._check_keywords_uniqueness()\n",
    "        self._is_prepared = False\n",
    "\n",
    "    def _check_for_nulls(self):\n",
    "        for col in [\"result\", \"case_sensitive\", \"spaces_sensitive\"]:\n",
    "            if rules_df[col].isna().sum() > 0:\n",
    "                raise ValueError(\n",
    "                    f\"'{col}' can not be Null. Fix mapping rules for {self.attr_name}.\"\n",
    "                )\n",
    "\n",
    "    def _check_keywords_uniqueness(self):\n",
    "        non_unique_keywords = self.rules_df[\"keyword\"].value_counts()[lambda x: x > 1]\n",
    "        if len(non_unique_keywords) > 0:\n",
    "            non_unique_keywords_str = \", \".join(non_unique_keywords.index)\n",
    "            raise ValueError(\n",
    "                f\"Keywords must be unique. Fix mapping rules for {attr_name}: {non_unique_keywords_str}.\"\n",
    "            )\n",
    "\n",
    "    def prepare(self):\n",
    "        if not self._is_prepared:\n",
    "            self.map_dicts = list(\n",
    "                self.rules_df.set_index(\"keyword\")\n",
    "                .groupby(by=[\"case_sensitive\", \"spaces_sensitive\"])\n",
    "                .agg(dict)\n",
    "                .rename({\"result\": \"mapping_dict\"}, axis=\"columns\")\n",
    "                .reset_index()\n",
    "                .apply(\n",
    "                    lambda x: MappingDict(\n",
    "                        rules=x.mapping_dict,\n",
    "                        case_sensitive=x.case_sensitive,\n",
    "                        spaces_sensitive=x.spaces_sensitive,\n",
    "                    ),\n",
    "                    axis=\"columns\",\n",
    "                )\n",
    "            )\n",
    "            self.map_dicts_prepared = [\n",
    "                mapping_dict.prepare() for mapping_dict in self.map_dicts\n",
    "            ]\n",
    "            self._is_prepared = True\n",
    "        else:\n",
    "            warnings.warn(\"MappingRules are already prepared.\", UserWarning)\n",
    "\n",
    "    def apply(\n",
    "        self, texts: Iterable[str], find: Literal[\"any\", \"all\"] = \"all\"\n",
    "    ) -> str | set[str] | None:\n",
    "\n",
    "        if not self._is_prepared:\n",
    "            self.prepare()\n",
    "\n",
    "        if find == \"all\":\n",
    "            result = set()\n",
    "        if find == \"any\":\n",
    "            result = None\n",
    "\n",
    "        for mapping_dict in self.map_dicts_prepared:\n",
    "            for text in texts:\n",
    "                text = prepare_text(\n",
    "                    text, mapping_dict.case_sensitive, mapping_dict.spaces_sensitive\n",
    "                )\n",
    "                for key, val in mapping_dict.rules.items():\n",
    "                    if key in text:\n",
    "                        print(key, val)\n",
    "                        if find == \"all\":\n",
    "                            result.add(val)\n",
    "                        if find == \"any\":\n",
    "                            return val\n",
    "        return result"
   ]
  },
  {
   "cell_type": "code",
   "execution_count": 229,
   "id": "1127ddb9-28ce-41c9-b19c-48332ca4c861",
   "metadata": {},
   "outputs": [],
   "source": [
    "skills_rules = MappingRules(\"skills\", rules_df)"
   ]
  },
  {
   "cell_type": "code",
   "execution_count": 230,
   "id": "0f5b1ff7-f246-442d-86a8-01f949e2b143",
   "metadata": {},
   "outputs": [
    {
     "name": "stdout",
     "output_type": "stream",
     "text": [
      " BI  BI\n"
     ]
    },
    {
     "data": {
      "text/plain": [
       "{'BI'}"
      ]
     },
     "execution_count": 230,
     "metadata": {},
     "output_type": "execute_result"
    }
   ],
   "source": [
    "skills_rules.apply([\"BI\"], \"all\")"
   ]
  },
  {
   "cell_type": "code",
   "execution_count": 231,
   "id": "77e58462-b5bd-4bda-8f7e-37419fe20056",
   "metadata": {},
   "outputs": [
    {
     "name": "stdout",
     "output_type": "stream",
     "text": [
      " BI  BI\n"
     ]
    },
    {
     "data": {
      "text/plain": [
       "{'BI'}"
      ]
     },
     "execution_count": 231,
     "metadata": {},
     "output_type": "execute_result"
    }
   ],
   "source": [
    "skills_rules.apply([\" BI \"], \"all\")"
   ]
  },
  {
   "cell_type": "code",
   "execution_count": 232,
   "id": "533aa010-8727-4a74-8178-132153f67356",
   "metadata": {},
   "outputs": [
    {
     "name": "stdout",
     "output_type": "stream",
     "text": [
      " BI  BI\n"
     ]
    },
    {
     "data": {
      "text/plain": [
       "{'BI'}"
      ]
     },
     "execution_count": 232,
     "metadata": {},
     "output_type": "execute_result"
    }
   ],
   "source": [
    "skills_rules.apply([\"hI BI!\"], \"all\")"
   ]
  },
  {
   "cell_type": "code",
   "execution_count": 233,
   "id": "6fbc55e0-0f34-4bb0-beec-52f5eafa6989",
   "metadata": {},
   "outputs": [
    {
     "data": {
      "text/plain": [
       "set()"
      ]
     },
     "execution_count": 233,
     "metadata": {},
     "output_type": "execute_result"
    }
   ],
   "source": [
    "skills_rules.apply([\" bi \"], \"all\")"
   ]
  },
  {
   "cell_type": "code",
   "execution_count": 234,
   "id": "9ba461e2-bee2-4150-8834-51f89fd898d7",
   "metadata": {},
   "outputs": [
    {
     "data": {
      "text/plain": [
       "set()"
      ]
     },
     "execution_count": 234,
     "metadata": {},
     "output_type": "execute_result"
    }
   ],
   "source": [
    "skills_rules.apply([\" BINGO!\"], \"all\")"
   ]
  },
  {
   "cell_type": "code",
   "execution_count": 235,
   "id": "fec59903-a1a0-4cee-a032-3ecfd9bc61a3",
   "metadata": {},
   "outputs": [
    {
     "name": "stdout",
     "output_type": "stream",
     "text": [
      "bigquery Google BigQuery\n"
     ]
    },
    {
     "data": {
      "text/plain": [
       "{'Google BigQuery'}"
      ]
     },
     "execution_count": 235,
     "metadata": {},
     "output_type": "execute_result"
    }
   ],
   "source": [
    "skills_rules.apply([\"BigQuery\"], \"all\")"
   ]
  },
  {
   "cell_type": "code",
   "execution_count": 236,
   "id": "286b7d91-44e5-49ea-b961-ceefdc3d2533",
   "metadata": {},
   "outputs": [
    {
     "name": "stdout",
     "output_type": "stream",
     "text": [
      "bigquery Google BigQuery\n"
     ]
    },
    {
     "data": {
      "text/plain": [
       "{'Google BigQuery'}"
      ]
     },
     "execution_count": 236,
     "metadata": {},
     "output_type": "execute_result"
    }
   ],
   "source": [
    "skills_rules.apply([\"(BigQuery)\"], \"all\")"
   ]
  },
  {
   "cell_type": "code",
   "execution_count": 237,
   "id": "ce826a6f-ab69-4f91-b67e-71b061bcb0b2",
   "metadata": {},
   "outputs": [
    {
     "name": "stdout",
     "output_type": "stream",
     "text": [
      "bigquery Google BigQuery\n"
     ]
    },
    {
     "data": {
      "text/plain": [
       "{'Google BigQuery'}"
      ]
     },
     "execution_count": 237,
     "metadata": {},
     "output_type": "execute_result"
    }
   ],
   "source": [
    "skills_rules.apply([\"(Big Query)\"], \"all\")"
   ]
  },
  {
   "cell_type": "code",
   "execution_count": 238,
   "id": "6e30c2e0-6bb6-44ed-9e45-f8aa4b33b22c",
   "metadata": {},
   "outputs": [
    {
     "name": "stdout",
     "output_type": "stream",
     "text": [
      "cosmosdb Azure Cosmos\n",
      "bigquery Google BigQuery\n",
      "hive Hive\n"
     ]
    },
    {
     "data": {
      "text/plain": [
       "{'Azure Cosmos', 'Google BigQuery', 'Hive'}"
      ]
     },
     "execution_count": 238,
     "metadata": {},
     "output_type": "execute_result"
    }
   ],
   "source": [
    "skills_rules.apply([\"piu-piu(bigquery/Hive/CosmosDB)\"], \"all\")"
   ]
  },
  {
   "cell_type": "code",
   "execution_count": 119,
   "id": "9e8f3676-d266-4a90-aa08-7a3a7b9eb076",
   "metadata": {},
   "outputs": [],
   "source": [
    "df_posting_load_query = f\"\"\"\n",
    "select *\n",
    "from `x-avenue-450615-c3.jp.jobs` as jp\n",
    "\"\"\"\n",
    "df_posting = bq_client.query(df_posting_load_query).to_dataframe()"
   ]
  },
  {
   "cell_type": "code",
   "execution_count": 239,
   "id": "21daaee1-48e0-4f70-99e4-3286c96e2e84",
   "metadata": {},
   "outputs": [
    {
     "name": "stdout",
     "output_type": "stream",
     "text": [
      "spark Spark\n",
      "unity Unity\n",
      "llm LLM\n",
      "pytorch PyTorch\n",
      "tensorflow TensorFlow\n",
      "unity Unity\n",
      "powerbi PowerBI\n",
      "unity Unity\n",
      "llm LLM\n",
      " BI  BI\n",
      "unity Unity\n",
      "unity Unity\n",
      "unity Unity\n",
      "hadoop Hadoop\n",
      "spark Spark\n",
      "unity Unity\n",
      "sql SQL\n",
      "python Python\n",
      " S3  AWS S3\n",
      " BI  BI\n"
     ]
    },
    {
     "data": {
      "text/plain": [
       "2595                                     {Spark, Unity}\n",
       "873                          {PyTorch, TensorFlow, LLM}\n",
       "1739                                            {Unity}\n",
       "1906                          {LLM, BI, Unity, PowerBI}\n",
       "1005                                            {Unity}\n",
       "3365                                                 {}\n",
       "3826                                            {Unity}\n",
       "2700                                            {Unity}\n",
       "3758                                                 {}\n",
       "3918    {Python, Hadoop, AWS S3, SQL, Unity, BI, Spark}\n",
       "Name: description, dtype: object"
      ]
     },
     "execution_count": 239,
     "metadata": {},
     "output_type": "execute_result"
    }
   ],
   "source": [
    "df_posting.sample(10).description.map(lambda x: skills_rules.apply([x]))"
   ]
  },
  {
   "cell_type": "code",
   "execution_count": 222,
   "id": "b279aa97-2a07-4ee2-bba0-13ece594a99a",
   "metadata": {},
   "outputs": [
    {
     "data": {
      "text/plain": [
       "set()"
      ]
     },
     "execution_count": 222,
     "metadata": {},
     "output_type": "execute_result"
    }
   ],
   "source": [
    "skills_rules.apply([df_posting.description.iloc[1058]], \"all\")"
   ]
  },
  {
   "cell_type": "code",
   "execution_count": null,
   "id": "9f9fcb82-051c-4c09-ab39-c9c66a5a45ec",
   "metadata": {},
   "outputs": [],
   "source": []
  },
  {
   "cell_type": "code",
   "execution_count": null,
   "id": "89f6bb83-f9d4-4f16-9902-2344cd9a3ee4",
   "metadata": {},
   "outputs": [],
   "source": []
  },
  {
   "cell_type": "code",
   "execution_count": null,
   "id": "d8a733ba-16cd-4e5b-9600-0aa3e3bfc3fb",
   "metadata": {},
   "outputs": [],
   "source": []
  }
 ],
 "metadata": {
  "kernelspec": {
   "display_name": "Python 3 (ipykernel)",
   "language": "python",
   "name": "python3"
  },
  "language_info": {
   "codemirror_mode": {
    "name": "ipython",
    "version": 3
   },
   "file_extension": ".py",
   "mimetype": "text/x-python",
   "name": "python",
   "nbconvert_exporter": "python",
   "pygments_lexer": "ipython3",
   "version": "3.11.6"
  }
 },
 "nbformat": 4,
 "nbformat_minor": 5
}
